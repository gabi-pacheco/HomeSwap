{
  "nbformat": 4,
  "nbformat_minor": 0,
  "metadata": {
    "colab": {
      "provenance": [],
      "toc_visible": true,
      "include_colab_link": true
    },
    "kernelspec": {
      "name": "python3",
      "display_name": "Python 3"
    },
    "language_info": {
      "name": "python"
    }
  },
  "cells": [
    {
      "cell_type": "markdown",
      "metadata": {
        "id": "view-in-github",
        "colab_type": "text"
      },
      "source": [
        "<a href=\"https://colab.research.google.com/github/gabi-pacheco/HomeSwap-Customer-Churn/blob/main/Exchanges_CLEANING.ipynb\" target=\"_parent\"><img src=\"https://colab.research.google.com/assets/colab-badge.svg\" alt=\"Open In Colab\"/></a>"
      ]
    },
    {
      "cell_type": "markdown",
      "source": [
        "#DATA CLEANING##\n",
        "\n",
        "*  drop duplicates\n",
        "*  drop nulls (if possible)\n",
        "*  simply column names (if needed)\n",
        "*  clean odd characters"
      ],
      "metadata": {
        "id": "C2BHLfXtaK16"
      }
    },
    {
      "cell_type": "markdown",
      "source": [
        "##**Import libraries**"
      ],
      "metadata": {
        "id": "rcTd-T7Fmflp"
      }
    },
    {
      "cell_type": "code",
      "source": [
        "import numpy as np\n",
        "import pandas as pd\n",
        "import plotly.express as px"
      ],
      "metadata": {
        "id": "TDGXBN1-mnZT"
      },
      "execution_count": null,
      "outputs": []
    },
    {
      "cell_type": "markdown",
      "source": [
        "##**Connect to Google BigQuery**"
      ],
      "metadata": {
        "id": "wCWkHuLKbMBK"
      }
    },
    {
      "cell_type": "code",
      "source": [
        "from google.colab import auth\n",
        "auth.authenticate_user()\n",
        "print('Authenticated')"
      ],
      "metadata": {
        "colab": {
          "base_uri": "https://localhost:8080/"
        },
        "id": "2lDaVAU8ml3R",
        "outputId": "f1214645-0ab5-45a9-c572-3bcde547fc9d"
      },
      "execution_count": null,
      "outputs": [
        {
          "output_type": "stream",
          "name": "stdout",
          "text": [
            "Authenticated\n"
          ]
        }
      ]
    },
    {
      "cell_type": "code",
      "source": [
        "from google.cloud import bigquery"
      ],
      "metadata": {
        "id": "i-27yUe_mnDh"
      },
      "execution_count": null,
      "outputs": []
    },
    {
      "cell_type": "markdown",
      "source": [
        "##**Link to Google BigQuery Project**"
      ],
      "metadata": {
        "id": "lxcOmbCP7ZeF"
      }
    },
    {
      "cell_type": "code",
      "source": [
        "project_id = 'savvy-torch-421309'\n",
        "client = bigquery.Client(project=project_id)\n",
        "\n",
        "exchanges = client.query('''\n",
        "  SELECT * FROM `savvy-torch-421309.home_exchange.exchanges`''').to_dataframe()"
      ],
      "metadata": {
        "id": "sEi5U634my2c"
      },
      "execution_count": null,
      "outputs": []
    },
    {
      "cell_type": "markdown",
      "source": [
        "##**Initial overview table**"
      ],
      "metadata": {
        "id": "RfYiN7eMbUth"
      }
    },
    {
      "cell_type": "code",
      "execution_count": null,
      "metadata": {
        "colab": {
          "base_uri": "https://localhost:8080/",
          "height": 342
        },
        "id": "HxNMfs0vlXEy",
        "outputId": "96cff1ba-f5dd-47d9-d796-9be47fd323ac"
      },
      "outputs": [
        {
          "output_type": "execute_result",
          "data": {
            "text/plain": [
              "   conversation_id  exchange_id  created_at  creator_id  guest_user_id  \\\n",
              "0         41632476     63756034  2021-09-26     2977886        2977886   \n",
              "1         41632730     63756339  2021-09-26     2992978        2784701   \n",
              "2         46516060     69263722  2022-08-04     1235361        1235361   \n",
              "3         42651231     64895824  2022-01-08     3021649        3021649   \n",
              "4         38896583     60666407  2020-11-24     3095644        3095644   \n",
              "\n",
              "   host_user_id finalized_at canceled_at    start_on      end_on  ...  \\\n",
              "0       1346925          NaT         NaT  2021-11-24  2021-11-28  ...   \n",
              "1       2992978          NaT         NaT  2023-02-04  2023-04-15  ...   \n",
              "2       2999441          NaT         NaT  2022-08-19  2022-08-22  ...   \n",
              "3        273822          NaT         NaT  2022-02-07  2022-02-26  ...   \n",
              "4       2556634          NaT         NaT  2020-12-28  2021-01-02  ...   \n",
              "\n",
              "   night_count  user_cancellation_id   exchange_type home_type residence_type  \\\n",
              "0            4                  <NA>  NON_RECIPROCAL      Home        primary   \n",
              "1           70                  <NA>      RECIPROCAL      Home        primary   \n",
              "2            3                  <NA>  NON_RECIPROCAL      Home      secondary   \n",
              "3           19                  <NA>  NON_RECIPROCAL      Home        primary   \n",
              "4            5                  <NA>  NON_RECIPROCAL      Home        primary   \n",
              "\n",
              "  capacity  country        region     department           city  \n",
              "0        6      USA    Californie  Santa Barbara  Santa Barbara  \n",
              "1        7      CHE  Sankt Gallen  Sarganserland        Vilters  \n",
              "2        7      USA     Tennessee  Sevier County     Gatlinburg  \n",
              "3        7      CAN       Ontario  Simcoe County    Collingwood  \n",
              "4        6      USA    California  Sonoma County     Bodega Bay  \n",
              "\n",
              "[5 rows x 21 columns]"
            ],
            "text/html": [
              "\n",
              "  <div id=\"df-a6f30ec6-cf19-487f-b92d-e5129c5a98a1\" class=\"colab-df-container\">\n",
              "    <div>\n",
              "<style scoped>\n",
              "    .dataframe tbody tr th:only-of-type {\n",
              "        vertical-align: middle;\n",
              "    }\n",
              "\n",
              "    .dataframe tbody tr th {\n",
              "        vertical-align: top;\n",
              "    }\n",
              "\n",
              "    .dataframe thead th {\n",
              "        text-align: right;\n",
              "    }\n",
              "</style>\n",
              "<table border=\"1\" class=\"dataframe\">\n",
              "  <thead>\n",
              "    <tr style=\"text-align: right;\">\n",
              "      <th></th>\n",
              "      <th>conversation_id</th>\n",
              "      <th>exchange_id</th>\n",
              "      <th>created_at</th>\n",
              "      <th>creator_id</th>\n",
              "      <th>guest_user_id</th>\n",
              "      <th>host_user_id</th>\n",
              "      <th>finalized_at</th>\n",
              "      <th>canceled_at</th>\n",
              "      <th>start_on</th>\n",
              "      <th>end_on</th>\n",
              "      <th>...</th>\n",
              "      <th>night_count</th>\n",
              "      <th>user_cancellation_id</th>\n",
              "      <th>exchange_type</th>\n",
              "      <th>home_type</th>\n",
              "      <th>residence_type</th>\n",
              "      <th>capacity</th>\n",
              "      <th>country</th>\n",
              "      <th>region</th>\n",
              "      <th>department</th>\n",
              "      <th>city</th>\n",
              "    </tr>\n",
              "  </thead>\n",
              "  <tbody>\n",
              "    <tr>\n",
              "      <th>0</th>\n",
              "      <td>41632476</td>\n",
              "      <td>63756034</td>\n",
              "      <td>2021-09-26</td>\n",
              "      <td>2977886</td>\n",
              "      <td>2977886</td>\n",
              "      <td>1346925</td>\n",
              "      <td>NaT</td>\n",
              "      <td>NaT</td>\n",
              "      <td>2021-11-24</td>\n",
              "      <td>2021-11-28</td>\n",
              "      <td>...</td>\n",
              "      <td>4</td>\n",
              "      <td>&lt;NA&gt;</td>\n",
              "      <td>NON_RECIPROCAL</td>\n",
              "      <td>Home</td>\n",
              "      <td>primary</td>\n",
              "      <td>6</td>\n",
              "      <td>USA</td>\n",
              "      <td>Californie</td>\n",
              "      <td>Santa Barbara</td>\n",
              "      <td>Santa Barbara</td>\n",
              "    </tr>\n",
              "    <tr>\n",
              "      <th>1</th>\n",
              "      <td>41632730</td>\n",
              "      <td>63756339</td>\n",
              "      <td>2021-09-26</td>\n",
              "      <td>2992978</td>\n",
              "      <td>2784701</td>\n",
              "      <td>2992978</td>\n",
              "      <td>NaT</td>\n",
              "      <td>NaT</td>\n",
              "      <td>2023-02-04</td>\n",
              "      <td>2023-04-15</td>\n",
              "      <td>...</td>\n",
              "      <td>70</td>\n",
              "      <td>&lt;NA&gt;</td>\n",
              "      <td>RECIPROCAL</td>\n",
              "      <td>Home</td>\n",
              "      <td>primary</td>\n",
              "      <td>7</td>\n",
              "      <td>CHE</td>\n",
              "      <td>Sankt Gallen</td>\n",
              "      <td>Sarganserland</td>\n",
              "      <td>Vilters</td>\n",
              "    </tr>\n",
              "    <tr>\n",
              "      <th>2</th>\n",
              "      <td>46516060</td>\n",
              "      <td>69263722</td>\n",
              "      <td>2022-08-04</td>\n",
              "      <td>1235361</td>\n",
              "      <td>1235361</td>\n",
              "      <td>2999441</td>\n",
              "      <td>NaT</td>\n",
              "      <td>NaT</td>\n",
              "      <td>2022-08-19</td>\n",
              "      <td>2022-08-22</td>\n",
              "      <td>...</td>\n",
              "      <td>3</td>\n",
              "      <td>&lt;NA&gt;</td>\n",
              "      <td>NON_RECIPROCAL</td>\n",
              "      <td>Home</td>\n",
              "      <td>secondary</td>\n",
              "      <td>7</td>\n",
              "      <td>USA</td>\n",
              "      <td>Tennessee</td>\n",
              "      <td>Sevier County</td>\n",
              "      <td>Gatlinburg</td>\n",
              "    </tr>\n",
              "    <tr>\n",
              "      <th>3</th>\n",
              "      <td>42651231</td>\n",
              "      <td>64895824</td>\n",
              "      <td>2022-01-08</td>\n",
              "      <td>3021649</td>\n",
              "      <td>3021649</td>\n",
              "      <td>273822</td>\n",
              "      <td>NaT</td>\n",
              "      <td>NaT</td>\n",
              "      <td>2022-02-07</td>\n",
              "      <td>2022-02-26</td>\n",
              "      <td>...</td>\n",
              "      <td>19</td>\n",
              "      <td>&lt;NA&gt;</td>\n",
              "      <td>NON_RECIPROCAL</td>\n",
              "      <td>Home</td>\n",
              "      <td>primary</td>\n",
              "      <td>7</td>\n",
              "      <td>CAN</td>\n",
              "      <td>Ontario</td>\n",
              "      <td>Simcoe County</td>\n",
              "      <td>Collingwood</td>\n",
              "    </tr>\n",
              "    <tr>\n",
              "      <th>4</th>\n",
              "      <td>38896583</td>\n",
              "      <td>60666407</td>\n",
              "      <td>2020-11-24</td>\n",
              "      <td>3095644</td>\n",
              "      <td>3095644</td>\n",
              "      <td>2556634</td>\n",
              "      <td>NaT</td>\n",
              "      <td>NaT</td>\n",
              "      <td>2020-12-28</td>\n",
              "      <td>2021-01-02</td>\n",
              "      <td>...</td>\n",
              "      <td>5</td>\n",
              "      <td>&lt;NA&gt;</td>\n",
              "      <td>NON_RECIPROCAL</td>\n",
              "      <td>Home</td>\n",
              "      <td>primary</td>\n",
              "      <td>6</td>\n",
              "      <td>USA</td>\n",
              "      <td>California</td>\n",
              "      <td>Sonoma County</td>\n",
              "      <td>Bodega Bay</td>\n",
              "    </tr>\n",
              "  </tbody>\n",
              "</table>\n",
              "<p>5 rows × 21 columns</p>\n",
              "</div>\n",
              "    <div class=\"colab-df-buttons\">\n",
              "\n",
              "  <div class=\"colab-df-container\">\n",
              "    <button class=\"colab-df-convert\" onclick=\"convertToInteractive('df-a6f30ec6-cf19-487f-b92d-e5129c5a98a1')\"\n",
              "            title=\"Convert this dataframe to an interactive table.\"\n",
              "            style=\"display:none;\">\n",
              "\n",
              "  <svg xmlns=\"http://www.w3.org/2000/svg\" height=\"24px\" viewBox=\"0 -960 960 960\">\n",
              "    <path d=\"M120-120v-720h720v720H120Zm60-500h600v-160H180v160Zm220 220h160v-160H400v160Zm0 220h160v-160H400v160ZM180-400h160v-160H180v160Zm440 0h160v-160H620v160ZM180-180h160v-160H180v160Zm440 0h160v-160H620v160Z\"/>\n",
              "  </svg>\n",
              "    </button>\n",
              "\n",
              "  <style>\n",
              "    .colab-df-container {\n",
              "      display:flex;\n",
              "      gap: 12px;\n",
              "    }\n",
              "\n",
              "    .colab-df-convert {\n",
              "      background-color: #E8F0FE;\n",
              "      border: none;\n",
              "      border-radius: 50%;\n",
              "      cursor: pointer;\n",
              "      display: none;\n",
              "      fill: #1967D2;\n",
              "      height: 32px;\n",
              "      padding: 0 0 0 0;\n",
              "      width: 32px;\n",
              "    }\n",
              "\n",
              "    .colab-df-convert:hover {\n",
              "      background-color: #E2EBFA;\n",
              "      box-shadow: 0px 1px 2px rgba(60, 64, 67, 0.3), 0px 1px 3px 1px rgba(60, 64, 67, 0.15);\n",
              "      fill: #174EA6;\n",
              "    }\n",
              "\n",
              "    .colab-df-buttons div {\n",
              "      margin-bottom: 4px;\n",
              "    }\n",
              "\n",
              "    [theme=dark] .colab-df-convert {\n",
              "      background-color: #3B4455;\n",
              "      fill: #D2E3FC;\n",
              "    }\n",
              "\n",
              "    [theme=dark] .colab-df-convert:hover {\n",
              "      background-color: #434B5C;\n",
              "      box-shadow: 0px 1px 3px 1px rgba(0, 0, 0, 0.15);\n",
              "      filter: drop-shadow(0px 1px 2px rgba(0, 0, 0, 0.3));\n",
              "      fill: #FFFFFF;\n",
              "    }\n",
              "  </style>\n",
              "\n",
              "    <script>\n",
              "      const buttonEl =\n",
              "        document.querySelector('#df-a6f30ec6-cf19-487f-b92d-e5129c5a98a1 button.colab-df-convert');\n",
              "      buttonEl.style.display =\n",
              "        google.colab.kernel.accessAllowed ? 'block' : 'none';\n",
              "\n",
              "      async function convertToInteractive(key) {\n",
              "        const element = document.querySelector('#df-a6f30ec6-cf19-487f-b92d-e5129c5a98a1');\n",
              "        const dataTable =\n",
              "          await google.colab.kernel.invokeFunction('convertToInteractive',\n",
              "                                                    [key], {});\n",
              "        if (!dataTable) return;\n",
              "\n",
              "        const docLinkHtml = 'Like what you see? Visit the ' +\n",
              "          '<a target=\"_blank\" href=https://colab.research.google.com/notebooks/data_table.ipynb>data table notebook</a>'\n",
              "          + ' to learn more about interactive tables.';\n",
              "        element.innerHTML = '';\n",
              "        dataTable['output_type'] = 'display_data';\n",
              "        await google.colab.output.renderOutput(dataTable, element);\n",
              "        const docLink = document.createElement('div');\n",
              "        docLink.innerHTML = docLinkHtml;\n",
              "        element.appendChild(docLink);\n",
              "      }\n",
              "    </script>\n",
              "  </div>\n",
              "\n",
              "\n",
              "<div id=\"df-bcdcd341-6417-4612-bb3a-ab06d6723637\">\n",
              "  <button class=\"colab-df-quickchart\" onclick=\"quickchart('df-bcdcd341-6417-4612-bb3a-ab06d6723637')\"\n",
              "            title=\"Suggest charts\"\n",
              "            style=\"display:none;\">\n",
              "\n",
              "<svg xmlns=\"http://www.w3.org/2000/svg\" height=\"24px\"viewBox=\"0 0 24 24\"\n",
              "     width=\"24px\">\n",
              "    <g>\n",
              "        <path d=\"M19 3H5c-1.1 0-2 .9-2 2v14c0 1.1.9 2 2 2h14c1.1 0 2-.9 2-2V5c0-1.1-.9-2-2-2zM9 17H7v-7h2v7zm4 0h-2V7h2v10zm4 0h-2v-4h2v4z\"/>\n",
              "    </g>\n",
              "</svg>\n",
              "  </button>\n",
              "\n",
              "<style>\n",
              "  .colab-df-quickchart {\n",
              "      --bg-color: #E8F0FE;\n",
              "      --fill-color: #1967D2;\n",
              "      --hover-bg-color: #E2EBFA;\n",
              "      --hover-fill-color: #174EA6;\n",
              "      --disabled-fill-color: #AAA;\n",
              "      --disabled-bg-color: #DDD;\n",
              "  }\n",
              "\n",
              "  [theme=dark] .colab-df-quickchart {\n",
              "      --bg-color: #3B4455;\n",
              "      --fill-color: #D2E3FC;\n",
              "      --hover-bg-color: #434B5C;\n",
              "      --hover-fill-color: #FFFFFF;\n",
              "      --disabled-bg-color: #3B4455;\n",
              "      --disabled-fill-color: #666;\n",
              "  }\n",
              "\n",
              "  .colab-df-quickchart {\n",
              "    background-color: var(--bg-color);\n",
              "    border: none;\n",
              "    border-radius: 50%;\n",
              "    cursor: pointer;\n",
              "    display: none;\n",
              "    fill: var(--fill-color);\n",
              "    height: 32px;\n",
              "    padding: 0;\n",
              "    width: 32px;\n",
              "  }\n",
              "\n",
              "  .colab-df-quickchart:hover {\n",
              "    background-color: var(--hover-bg-color);\n",
              "    box-shadow: 0 1px 2px rgba(60, 64, 67, 0.3), 0 1px 3px 1px rgba(60, 64, 67, 0.15);\n",
              "    fill: var(--button-hover-fill-color);\n",
              "  }\n",
              "\n",
              "  .colab-df-quickchart-complete:disabled,\n",
              "  .colab-df-quickchart-complete:disabled:hover {\n",
              "    background-color: var(--disabled-bg-color);\n",
              "    fill: var(--disabled-fill-color);\n",
              "    box-shadow: none;\n",
              "  }\n",
              "\n",
              "  .colab-df-spinner {\n",
              "    border: 2px solid var(--fill-color);\n",
              "    border-color: transparent;\n",
              "    border-bottom-color: var(--fill-color);\n",
              "    animation:\n",
              "      spin 1s steps(1) infinite;\n",
              "  }\n",
              "\n",
              "  @keyframes spin {\n",
              "    0% {\n",
              "      border-color: transparent;\n",
              "      border-bottom-color: var(--fill-color);\n",
              "      border-left-color: var(--fill-color);\n",
              "    }\n",
              "    20% {\n",
              "      border-color: transparent;\n",
              "      border-left-color: var(--fill-color);\n",
              "      border-top-color: var(--fill-color);\n",
              "    }\n",
              "    30% {\n",
              "      border-color: transparent;\n",
              "      border-left-color: var(--fill-color);\n",
              "      border-top-color: var(--fill-color);\n",
              "      border-right-color: var(--fill-color);\n",
              "    }\n",
              "    40% {\n",
              "      border-color: transparent;\n",
              "      border-right-color: var(--fill-color);\n",
              "      border-top-color: var(--fill-color);\n",
              "    }\n",
              "    60% {\n",
              "      border-color: transparent;\n",
              "      border-right-color: var(--fill-color);\n",
              "    }\n",
              "    80% {\n",
              "      border-color: transparent;\n",
              "      border-right-color: var(--fill-color);\n",
              "      border-bottom-color: var(--fill-color);\n",
              "    }\n",
              "    90% {\n",
              "      border-color: transparent;\n",
              "      border-bottom-color: var(--fill-color);\n",
              "    }\n",
              "  }\n",
              "</style>\n",
              "\n",
              "  <script>\n",
              "    async function quickchart(key) {\n",
              "      const quickchartButtonEl =\n",
              "        document.querySelector('#' + key + ' button');\n",
              "      quickchartButtonEl.disabled = true;  // To prevent multiple clicks.\n",
              "      quickchartButtonEl.classList.add('colab-df-spinner');\n",
              "      try {\n",
              "        const charts = await google.colab.kernel.invokeFunction(\n",
              "            'suggestCharts', [key], {});\n",
              "      } catch (error) {\n",
              "        console.error('Error during call to suggestCharts:', error);\n",
              "      }\n",
              "      quickchartButtonEl.classList.remove('colab-df-spinner');\n",
              "      quickchartButtonEl.classList.add('colab-df-quickchart-complete');\n",
              "    }\n",
              "    (() => {\n",
              "      let quickchartButtonEl =\n",
              "        document.querySelector('#df-bcdcd341-6417-4612-bb3a-ab06d6723637 button');\n",
              "      quickchartButtonEl.style.display =\n",
              "        google.colab.kernel.accessAllowed ? 'block' : 'none';\n",
              "    })();\n",
              "  </script>\n",
              "</div>\n",
              "    </div>\n",
              "  </div>\n"
            ],
            "application/vnd.google.colaboratory.intrinsic+json": {
              "type": "dataframe",
              "variable_name": "exchanges"
            }
          },
          "metadata": {},
          "execution_count": 6
        }
      ],
      "source": [
        "## exchanges.head()"
      ]
    },
    {
      "cell_type": "code",
      "source": [
        "## exchanges.info()"
      ],
      "metadata": {
        "colab": {
          "base_uri": "https://localhost:8080/"
        },
        "id": "8NW2WO1nntUI",
        "outputId": "7b43c930-e9b8-42bd-a958-ccbfcb09725f"
      },
      "execution_count": null,
      "outputs": [
        {
          "output_type": "stream",
          "name": "stdout",
          "text": [
            "<class 'pandas.core.frame.DataFrame'>\n",
            "RangeIndex: 11969751 entries, 0 to 11969750\n",
            "Data columns (total 21 columns):\n",
            " #   Column                  Dtype              \n",
            "---  ------                  -----              \n",
            " 0   conversation_id         Int64              \n",
            " 1   exchange_id             Int64              \n",
            " 2   created_at              object             \n",
            " 3   creator_id              Int64              \n",
            " 4   guest_user_id           Int64              \n",
            " 5   host_user_id            Int64              \n",
            " 6   finalized_at            datetime64[us, UTC]\n",
            " 7   canceled_at             datetime64[us, UTC]\n",
            " 8   start_on                object             \n",
            " 9   end_on                  object             \n",
            " 10  guest_countguest_count  Int64              \n",
            " 11  night_count             Int64              \n",
            " 12  user_cancellation_id    Int64              \n",
            " 13  exchange_type           object             \n",
            " 14  home_type               object             \n",
            " 15  residence_type          object             \n",
            " 16  capacity                Int64              \n",
            " 17  country                 object             \n",
            " 18  region                  object             \n",
            " 19  department              object             \n",
            " 20  city                    object             \n",
            "dtypes: Int64(9), datetime64[us, UTC](2), object(10)\n",
            "memory usage: 2.0+ GB\n"
          ]
        }
      ]
    },
    {
      "cell_type": "code",
      "source": [
        "exchanges.shape"
      ],
      "metadata": {
        "colab": {
          "base_uri": "https://localhost:8080/"
        },
        "id": "cwPjI_G8rHJ0",
        "outputId": "3e18278e-fd75-4c22-ed47-fd06005ee684"
      },
      "execution_count": null,
      "outputs": [
        {
          "output_type": "execute_result",
          "data": {
            "text/plain": [
              "(11969751, 21)"
            ]
          },
          "metadata": {},
          "execution_count": 8
        }
      ]
    },
    {
      "cell_type": "markdown",
      "source": [
        "##**Drop duplicates**"
      ],
      "metadata": {
        "id": "QY0vIwBKbZnD"
      }
    },
    {
      "cell_type": "code",
      "source": [
        "##not necessary; no duplicated rows in original exchanges table\n",
        "\n",
        "##no longer run this code as it takes long and there are no duplicates in the table\n",
        "\n",
        "##exchanges.drop_duplicates()"
      ],
      "metadata": {
        "collapsed": true,
        "id": "5PNdUeGRq2Eo"
      },
      "execution_count": null,
      "outputs": []
    },
    {
      "cell_type": "markdown",
      "source": [
        "##**Drop nulls**"
      ],
      "metadata": {
        "id": "lPzVuUVGbiEK"
      }
    },
    {
      "cell_type": "code",
      "source": [
        "exchanges.isnull().sum()"
      ],
      "metadata": {
        "colab": {
          "base_uri": "https://localhost:8080/"
        },
        "id": "jwLWsVZGBYHT",
        "outputId": "11eb802d-d698-4a33-f62a-619375a2d2de"
      },
      "execution_count": null,
      "outputs": [
        {
          "output_type": "execute_result",
          "data": {
            "text/plain": [
              "conversation_id                  0\n",
              "exchange_id                      0\n",
              "created_at                       0\n",
              "creator_id                       0\n",
              "guest_user_id                    0\n",
              "host_user_id                     0\n",
              "finalized_at              11571384\n",
              "canceled_at               11890322\n",
              "start_on                   1335625\n",
              "end_on                     1346820\n",
              "guest_countguest_count           0\n",
              "night_count                      0\n",
              "user_cancellation_id      11890284\n",
              "exchange_type                    0\n",
              "home_type                     1452\n",
              "residence_type               44784\n",
              "capacity                         3\n",
              "country                       7104\n",
              "region                      277096\n",
              "department                  869905\n",
              "city                       1175342\n",
              "dtype: int64"
            ]
          },
          "metadata": {},
          "execution_count": 9
        }
      ]
    },
    {
      "cell_type": "code",
      "source": [
        "#Drop rows with home_type null of exchanges table = 0,01%\n",
        "\n",
        "exchanges = exchanges.dropna(subset=['home_type'])"
      ],
      "metadata": {
        "id": "mlGaTq_USgMK"
      },
      "execution_count": null,
      "outputs": []
    },
    {
      "cell_type": "code",
      "source": [
        "#Drop rows with residence_type null = 0,37%\n",
        "\n",
        "exchanges = exchanges.dropna(subset=['residence_type'])"
      ],
      "metadata": {
        "id": "QPWReLS9OeT0"
      },
      "execution_count": null,
      "outputs": []
    },
    {
      "cell_type": "code",
      "source": [
        "#Drop rows with country null as it represented 0.006% of exchanges table = 0,06%\n",
        "\n",
        "exchanges = exchanges.dropna(subset=['country'])"
      ],
      "metadata": {
        "id": "hqxk7j6nR7T7"
      },
      "execution_count": null,
      "outputs": []
    },
    {
      "cell_type": "code",
      "source": [
        "#Drop rows with region null of exchanges table = 2,3%\n",
        "\n",
        "exchanges = exchanges.dropna(subset=['region'])"
      ],
      "metadata": {
        "id": "B9Me2LiQQ_YM"
      },
      "execution_count": null,
      "outputs": []
    },
    {
      "cell_type": "code",
      "source": [
        "#Drop rows with department null of exchanges table = 7,27%\n",
        "\n",
        "exchanges = exchanges.dropna(subset=['department'])"
      ],
      "metadata": {
        "id": "fLwVrgK1RRKz"
      },
      "execution_count": null,
      "outputs": []
    },
    {
      "cell_type": "code",
      "source": [
        "#Drop rows with city null of exchanges table = 9,8%\n",
        "\n",
        "exchanges = exchanges.dropna(subset=['city'])"
      ],
      "metadata": {
        "id": "MKPzcDJ-RXQN"
      },
      "execution_count": null,
      "outputs": []
    },
    {
      "cell_type": "code",
      "source": [
        "#Drop rows with capacity null of exchanges table = 0,000001%\n",
        "\n",
        "exchanges = exchanges.dropna(subset=['capacity'])"
      ],
      "metadata": {
        "id": "aA9YuKO_Rfnv"
      },
      "execution_count": null,
      "outputs": []
    },
    {
      "cell_type": "code",
      "source": [
        "#Drop rows with night_count negative of exchanges table = 0,000001%\n",
        "\n",
        "exchanges = exchanges[exchanges['night_count']>=0]"
      ],
      "metadata": {
        "id": "WdI9eZIfRl7E"
      },
      "execution_count": null,
      "outputs": []
    },
    {
      "cell_type": "markdown",
      "source": [
        "##**Simplify column names**"
      ],
      "metadata": {
        "id": "vUQEMLEuMldj"
      }
    },
    {
      "cell_type": "code",
      "source": [
        "# Rename column 'guest_countguest_count' to 'guest_count'\n",
        "exchanges = exchanges.rename(columns={'guest_countguest_count': 'guest_count'})"
      ],
      "metadata": {
        "id": "44JCdMJNMlDr"
      },
      "execution_count": null,
      "outputs": []
    },
    {
      "cell_type": "code",
      "source": [
        "exchanges.shape"
      ],
      "metadata": {
        "colab": {
          "base_uri": "https://localhost:8080/"
        },
        "id": "b6yvTGRul0EQ",
        "outputId": "625193c5-fc87-4617-97d9-d7a5c0a2f609"
      },
      "execution_count": null,
      "outputs": [
        {
          "output_type": "execute_result",
          "data": {
            "text/plain": [
              "(10062947, 21)"
            ]
          },
          "metadata": {},
          "execution_count": 19
        }
      ]
    },
    {
      "cell_type": "markdown",
      "source": [
        "##**Convert objects on date types**"
      ],
      "metadata": {
        "id": "1eRXIGbF8NCw"
      }
    },
    {
      "cell_type": "code",
      "source": [
        "# Convert each column to datetime\n",
        "exchanges['created_at'] = pd.to_datetime(exchanges['created_at'], format='%Y-%m-%d', errors='coerce')\n",
        "exchanges['start_on'] = pd.to_datetime(exchanges['start_on'], format='%Y-%m-%d', errors='coerce')\n",
        "exchanges['end_on'] = pd.to_datetime(exchanges['end_on'], format='%Y-%m-%d', errors='coerce')"
      ],
      "metadata": {
        "id": "wnOZ5bas8WLq"
      },
      "execution_count": null,
      "outputs": []
    },
    {
      "cell_type": "code",
      "source": [
        "dtypes = exchanges[['created_at', 'start_on', 'end_on']].dtypes\n",
        "dtypes"
      ],
      "metadata": {
        "colab": {
          "base_uri": "https://localhost:8080/"
        },
        "id": "CObO-yY28h9E",
        "outputId": "1fd8d968-cf23-4656-f459-817b253e1a52"
      },
      "execution_count": null,
      "outputs": [
        {
          "output_type": "execute_result",
          "data": {
            "text/plain": [
              "created_at    datetime64[ns]\n",
              "start_on      datetime64[ns]\n",
              "end_on        datetime64[ns]\n",
              "dtype: object"
            ]
          },
          "metadata": {},
          "execution_count": 21
        }
      ]
    },
    {
      "cell_type": "markdown",
      "source": [
        "##**Add new fields with no timestamp**"
      ],
      "metadata": {
        "id": "d5sBdoqR8oTL"
      }
    },
    {
      "cell_type": "code",
      "source": [
        "# Create new fields with naive datetime64[ns] (removing timezone)\n",
        "exchanges['finalized_at_date'] = exchanges['finalized_at'].dt.tz_convert(None).dt.normalize()\n",
        "exchanges['canceled_at_date'] = exchanges['canceled_at'].dt.tz_convert(None).dt.normalize()\n",
        "\n",
        "##dt.tz_convert(None).dt.normalize() removes the timezone and normalizes the datetime to keep only the date part"
      ],
      "metadata": {
        "id": "NJISr8_-8uRs"
      },
      "execution_count": null,
      "outputs": []
    },
    {
      "cell_type": "code",
      "source": [
        "dtypes = exchanges[['finalized_at', 'canceled_at','finalized_at_date', 'canceled_at_date']].dtypes\n",
        "dtypes"
      ],
      "metadata": {
        "colab": {
          "base_uri": "https://localhost:8080/"
        },
        "id": "NEGX4USn8zMb",
        "outputId": "a77f6874-c2f6-4471-c0ed-4d8b4691c5b3"
      },
      "execution_count": null,
      "outputs": [
        {
          "output_type": "execute_result",
          "data": {
            "text/plain": [
              "finalized_at         datetime64[us, UTC]\n",
              "canceled_at          datetime64[us, UTC]\n",
              "finalized_at_date         datetime64[us]\n",
              "canceled_at_date          datetime64[us]\n",
              "dtype: object"
            ]
          },
          "metadata": {},
          "execution_count": 23
        }
      ]
    },
    {
      "cell_type": "code",
      "source": [
        "exchanges"
      ],
      "metadata": {
        "colab": {
          "base_uri": "https://localhost:8080/",
          "height": 634
        },
        "id": "FHtcr2Yd89D1",
        "outputId": "e42d3138-0100-4a24-89a9-a9bbeb62dc70"
      },
      "execution_count": null,
      "outputs": [
        {
          "output_type": "execute_result",
          "data": {
            "text/plain": [
              "          conversation_id  exchange_id created_at  creator_id  guest_user_id  \\\n",
              "0                43687121     66088358 2022-03-06     3640066        3640066   \n",
              "1                44383597     66883316 2022-04-10      592860         592860   \n",
              "2                32857936     54215329 2019-04-30     2796089        2796089   \n",
              "3                35420916     56857998 2019-11-17      519652         519652   \n",
              "4                35618546     57062303 2019-12-03     2858139        2858139   \n",
              "...                   ...          ...        ...         ...            ...   \n",
              "11969746         39720164     61600406 2021-04-03      246326         246326   \n",
              "11969747         44767388     67319837 2022-04-30     2173180        1399533   \n",
              "11969748         38440149     60162885 2020-08-23     2809016        2809016   \n",
              "11969749         38608246     60348334 2020-09-19      586944         586944   \n",
              "11969750         46141923     68864273 2022-07-12     3490649        3490649   \n",
              "\n",
              "          host_user_id finalized_at canceled_at   start_on     end_on  ...  \\\n",
              "0              3566772          NaT         NaT        NaT        NaT  ...   \n",
              "1              1391251          NaT         NaT 2022-04-25 2022-04-27  ...   \n",
              "2              1212467          NaT         NaT 2019-12-24 2019-12-30  ...   \n",
              "3              2686780          NaT         NaT        NaT        NaT  ...   \n",
              "4              1180072          NaT         NaT 2019-12-11 2019-12-15  ...   \n",
              "...                ...          ...         ...        ...        ...  ...   \n",
              "11969746       2498749          NaT         NaT        NaT        NaT  ...   \n",
              "11969747       2173180          NaT         NaT 2022-07-31 2022-08-07  ...   \n",
              "11969748       3539130          NaT         NaT 2020-10-19 2020-10-24  ...   \n",
              "11969749       3535504          NaT         NaT 2020-11-26 2020-12-04  ...   \n",
              "11969750       2798375          NaT         NaT 2023-06-09 2023-06-17  ...   \n",
              "\n",
              "           exchange_type  home_type  residence_type capacity country  \\\n",
              "0         NON_RECIPROCAL       Home         primary        6     USA   \n",
              "1         NON_RECIPROCAL       Home         primary       10     USA   \n",
              "2         NON_RECIPROCAL       Home         primary        6     USA   \n",
              "3         NON_RECIPROCAL  apartment       secondary        9     USA   \n",
              "4         NON_RECIPROCAL       Home         primary        6     USA   \n",
              "...                  ...        ...             ...      ...     ...   \n",
              "11969746  NON_RECIPROCAL       Home         primary        8     ITA   \n",
              "11969747      RECIPROCAL  apartment       secondary        4     AUT   \n",
              "11969748  NON_RECIPROCAL       Home         primary        6     USA   \n",
              "11969749  NON_RECIPROCAL       Home       secondary       14     USA   \n",
              "11969750  NON_RECIPROCAL       Home       secondary       13     USA   \n",
              "\n",
              "                      region      department             city  \\\n",
              "0                 Californie   Santa Barbara    Santa Barbara   \n",
              "1                 California   Santa Barbara    Santa Barbara   \n",
              "2                 California   Sonoma County           Sonoma   \n",
              "3                   Colorado   Summit County     Breckenridge   \n",
              "4                 California  Alameda County          Oakland   \n",
              "...                      ...             ...              ...   \n",
              "11969746  Trentin-Haut-Adige         Bolzano           Merano   \n",
              "11969747          Vorarlberg         Bregenz          Bregenz   \n",
              "11969748             Floride         Brevard   Cape Canaveral   \n",
              "11969749             Floride         Broward  Fort Lauderdale   \n",
              "11969750             Florida         Broward  Fort Lauderdale   \n",
              "\n",
              "         finalized_at_date canceled_at_date  \n",
              "0                      NaT              NaT  \n",
              "1                      NaT              NaT  \n",
              "2                      NaT              NaT  \n",
              "3                      NaT              NaT  \n",
              "4                      NaT              NaT  \n",
              "...                    ...              ...  \n",
              "11969746               NaT              NaT  \n",
              "11969747               NaT              NaT  \n",
              "11969748               NaT              NaT  \n",
              "11969749               NaT              NaT  \n",
              "11969750               NaT              NaT  \n",
              "\n",
              "[10062947 rows x 23 columns]"
            ],
            "text/html": [
              "\n",
              "  <div id=\"df-d95c9a5b-7387-46e6-9c0c-0aed604271f8\" class=\"colab-df-container\">\n",
              "    <div>\n",
              "<style scoped>\n",
              "    .dataframe tbody tr th:only-of-type {\n",
              "        vertical-align: middle;\n",
              "    }\n",
              "\n",
              "    .dataframe tbody tr th {\n",
              "        vertical-align: top;\n",
              "    }\n",
              "\n",
              "    .dataframe thead th {\n",
              "        text-align: right;\n",
              "    }\n",
              "</style>\n",
              "<table border=\"1\" class=\"dataframe\">\n",
              "  <thead>\n",
              "    <tr style=\"text-align: right;\">\n",
              "      <th></th>\n",
              "      <th>conversation_id</th>\n",
              "      <th>exchange_id</th>\n",
              "      <th>created_at</th>\n",
              "      <th>creator_id</th>\n",
              "      <th>guest_user_id</th>\n",
              "      <th>host_user_id</th>\n",
              "      <th>finalized_at</th>\n",
              "      <th>canceled_at</th>\n",
              "      <th>start_on</th>\n",
              "      <th>end_on</th>\n",
              "      <th>...</th>\n",
              "      <th>exchange_type</th>\n",
              "      <th>home_type</th>\n",
              "      <th>residence_type</th>\n",
              "      <th>capacity</th>\n",
              "      <th>country</th>\n",
              "      <th>region</th>\n",
              "      <th>department</th>\n",
              "      <th>city</th>\n",
              "      <th>finalized_at_date</th>\n",
              "      <th>canceled_at_date</th>\n",
              "    </tr>\n",
              "  </thead>\n",
              "  <tbody>\n",
              "    <tr>\n",
              "      <th>0</th>\n",
              "      <td>43687121</td>\n",
              "      <td>66088358</td>\n",
              "      <td>2022-03-06</td>\n",
              "      <td>3640066</td>\n",
              "      <td>3640066</td>\n",
              "      <td>3566772</td>\n",
              "      <td>NaT</td>\n",
              "      <td>NaT</td>\n",
              "      <td>NaT</td>\n",
              "      <td>NaT</td>\n",
              "      <td>...</td>\n",
              "      <td>NON_RECIPROCAL</td>\n",
              "      <td>Home</td>\n",
              "      <td>primary</td>\n",
              "      <td>6</td>\n",
              "      <td>USA</td>\n",
              "      <td>Californie</td>\n",
              "      <td>Santa Barbara</td>\n",
              "      <td>Santa Barbara</td>\n",
              "      <td>NaT</td>\n",
              "      <td>NaT</td>\n",
              "    </tr>\n",
              "    <tr>\n",
              "      <th>1</th>\n",
              "      <td>44383597</td>\n",
              "      <td>66883316</td>\n",
              "      <td>2022-04-10</td>\n",
              "      <td>592860</td>\n",
              "      <td>592860</td>\n",
              "      <td>1391251</td>\n",
              "      <td>NaT</td>\n",
              "      <td>NaT</td>\n",
              "      <td>2022-04-25</td>\n",
              "      <td>2022-04-27</td>\n",
              "      <td>...</td>\n",
              "      <td>NON_RECIPROCAL</td>\n",
              "      <td>Home</td>\n",
              "      <td>primary</td>\n",
              "      <td>10</td>\n",
              "      <td>USA</td>\n",
              "      <td>California</td>\n",
              "      <td>Santa Barbara</td>\n",
              "      <td>Santa Barbara</td>\n",
              "      <td>NaT</td>\n",
              "      <td>NaT</td>\n",
              "    </tr>\n",
              "    <tr>\n",
              "      <th>2</th>\n",
              "      <td>32857936</td>\n",
              "      <td>54215329</td>\n",
              "      <td>2019-04-30</td>\n",
              "      <td>2796089</td>\n",
              "      <td>2796089</td>\n",
              "      <td>1212467</td>\n",
              "      <td>NaT</td>\n",
              "      <td>NaT</td>\n",
              "      <td>2019-12-24</td>\n",
              "      <td>2019-12-30</td>\n",
              "      <td>...</td>\n",
              "      <td>NON_RECIPROCAL</td>\n",
              "      <td>Home</td>\n",
              "      <td>primary</td>\n",
              "      <td>6</td>\n",
              "      <td>USA</td>\n",
              "      <td>California</td>\n",
              "      <td>Sonoma County</td>\n",
              "      <td>Sonoma</td>\n",
              "      <td>NaT</td>\n",
              "      <td>NaT</td>\n",
              "    </tr>\n",
              "    <tr>\n",
              "      <th>3</th>\n",
              "      <td>35420916</td>\n",
              "      <td>56857998</td>\n",
              "      <td>2019-11-17</td>\n",
              "      <td>519652</td>\n",
              "      <td>519652</td>\n",
              "      <td>2686780</td>\n",
              "      <td>NaT</td>\n",
              "      <td>NaT</td>\n",
              "      <td>NaT</td>\n",
              "      <td>NaT</td>\n",
              "      <td>...</td>\n",
              "      <td>NON_RECIPROCAL</td>\n",
              "      <td>apartment</td>\n",
              "      <td>secondary</td>\n",
              "      <td>9</td>\n",
              "      <td>USA</td>\n",
              "      <td>Colorado</td>\n",
              "      <td>Summit County</td>\n",
              "      <td>Breckenridge</td>\n",
              "      <td>NaT</td>\n",
              "      <td>NaT</td>\n",
              "    </tr>\n",
              "    <tr>\n",
              "      <th>4</th>\n",
              "      <td>35618546</td>\n",
              "      <td>57062303</td>\n",
              "      <td>2019-12-03</td>\n",
              "      <td>2858139</td>\n",
              "      <td>2858139</td>\n",
              "      <td>1180072</td>\n",
              "      <td>NaT</td>\n",
              "      <td>NaT</td>\n",
              "      <td>2019-12-11</td>\n",
              "      <td>2019-12-15</td>\n",
              "      <td>...</td>\n",
              "      <td>NON_RECIPROCAL</td>\n",
              "      <td>Home</td>\n",
              "      <td>primary</td>\n",
              "      <td>6</td>\n",
              "      <td>USA</td>\n",
              "      <td>California</td>\n",
              "      <td>Alameda County</td>\n",
              "      <td>Oakland</td>\n",
              "      <td>NaT</td>\n",
              "      <td>NaT</td>\n",
              "    </tr>\n",
              "    <tr>\n",
              "      <th>...</th>\n",
              "      <td>...</td>\n",
              "      <td>...</td>\n",
              "      <td>...</td>\n",
              "      <td>...</td>\n",
              "      <td>...</td>\n",
              "      <td>...</td>\n",
              "      <td>...</td>\n",
              "      <td>...</td>\n",
              "      <td>...</td>\n",
              "      <td>...</td>\n",
              "      <td>...</td>\n",
              "      <td>...</td>\n",
              "      <td>...</td>\n",
              "      <td>...</td>\n",
              "      <td>...</td>\n",
              "      <td>...</td>\n",
              "      <td>...</td>\n",
              "      <td>...</td>\n",
              "      <td>...</td>\n",
              "      <td>...</td>\n",
              "      <td>...</td>\n",
              "    </tr>\n",
              "    <tr>\n",
              "      <th>11969746</th>\n",
              "      <td>39720164</td>\n",
              "      <td>61600406</td>\n",
              "      <td>2021-04-03</td>\n",
              "      <td>246326</td>\n",
              "      <td>246326</td>\n",
              "      <td>2498749</td>\n",
              "      <td>NaT</td>\n",
              "      <td>NaT</td>\n",
              "      <td>NaT</td>\n",
              "      <td>NaT</td>\n",
              "      <td>...</td>\n",
              "      <td>NON_RECIPROCAL</td>\n",
              "      <td>Home</td>\n",
              "      <td>primary</td>\n",
              "      <td>8</td>\n",
              "      <td>ITA</td>\n",
              "      <td>Trentin-Haut-Adige</td>\n",
              "      <td>Bolzano</td>\n",
              "      <td>Merano</td>\n",
              "      <td>NaT</td>\n",
              "      <td>NaT</td>\n",
              "    </tr>\n",
              "    <tr>\n",
              "      <th>11969747</th>\n",
              "      <td>44767388</td>\n",
              "      <td>67319837</td>\n",
              "      <td>2022-04-30</td>\n",
              "      <td>2173180</td>\n",
              "      <td>1399533</td>\n",
              "      <td>2173180</td>\n",
              "      <td>NaT</td>\n",
              "      <td>NaT</td>\n",
              "      <td>2022-07-31</td>\n",
              "      <td>2022-08-07</td>\n",
              "      <td>...</td>\n",
              "      <td>RECIPROCAL</td>\n",
              "      <td>apartment</td>\n",
              "      <td>secondary</td>\n",
              "      <td>4</td>\n",
              "      <td>AUT</td>\n",
              "      <td>Vorarlberg</td>\n",
              "      <td>Bregenz</td>\n",
              "      <td>Bregenz</td>\n",
              "      <td>NaT</td>\n",
              "      <td>NaT</td>\n",
              "    </tr>\n",
              "    <tr>\n",
              "      <th>11969748</th>\n",
              "      <td>38440149</td>\n",
              "      <td>60162885</td>\n",
              "      <td>2020-08-23</td>\n",
              "      <td>2809016</td>\n",
              "      <td>2809016</td>\n",
              "      <td>3539130</td>\n",
              "      <td>NaT</td>\n",
              "      <td>NaT</td>\n",
              "      <td>2020-10-19</td>\n",
              "      <td>2020-10-24</td>\n",
              "      <td>...</td>\n",
              "      <td>NON_RECIPROCAL</td>\n",
              "      <td>Home</td>\n",
              "      <td>primary</td>\n",
              "      <td>6</td>\n",
              "      <td>USA</td>\n",
              "      <td>Floride</td>\n",
              "      <td>Brevard</td>\n",
              "      <td>Cape Canaveral</td>\n",
              "      <td>NaT</td>\n",
              "      <td>NaT</td>\n",
              "    </tr>\n",
              "    <tr>\n",
              "      <th>11969749</th>\n",
              "      <td>38608246</td>\n",
              "      <td>60348334</td>\n",
              "      <td>2020-09-19</td>\n",
              "      <td>586944</td>\n",
              "      <td>586944</td>\n",
              "      <td>3535504</td>\n",
              "      <td>NaT</td>\n",
              "      <td>NaT</td>\n",
              "      <td>2020-11-26</td>\n",
              "      <td>2020-12-04</td>\n",
              "      <td>...</td>\n",
              "      <td>NON_RECIPROCAL</td>\n",
              "      <td>Home</td>\n",
              "      <td>secondary</td>\n",
              "      <td>14</td>\n",
              "      <td>USA</td>\n",
              "      <td>Floride</td>\n",
              "      <td>Broward</td>\n",
              "      <td>Fort Lauderdale</td>\n",
              "      <td>NaT</td>\n",
              "      <td>NaT</td>\n",
              "    </tr>\n",
              "    <tr>\n",
              "      <th>11969750</th>\n",
              "      <td>46141923</td>\n",
              "      <td>68864273</td>\n",
              "      <td>2022-07-12</td>\n",
              "      <td>3490649</td>\n",
              "      <td>3490649</td>\n",
              "      <td>2798375</td>\n",
              "      <td>NaT</td>\n",
              "      <td>NaT</td>\n",
              "      <td>2023-06-09</td>\n",
              "      <td>2023-06-17</td>\n",
              "      <td>...</td>\n",
              "      <td>NON_RECIPROCAL</td>\n",
              "      <td>Home</td>\n",
              "      <td>secondary</td>\n",
              "      <td>13</td>\n",
              "      <td>USA</td>\n",
              "      <td>Florida</td>\n",
              "      <td>Broward</td>\n",
              "      <td>Fort Lauderdale</td>\n",
              "      <td>NaT</td>\n",
              "      <td>NaT</td>\n",
              "    </tr>\n",
              "  </tbody>\n",
              "</table>\n",
              "<p>10062947 rows × 23 columns</p>\n",
              "</div>\n",
              "    <div class=\"colab-df-buttons\">\n",
              "\n",
              "  <div class=\"colab-df-container\">\n",
              "    <button class=\"colab-df-convert\" onclick=\"convertToInteractive('df-d95c9a5b-7387-46e6-9c0c-0aed604271f8')\"\n",
              "            title=\"Convert this dataframe to an interactive table.\"\n",
              "            style=\"display:none;\">\n",
              "\n",
              "  <svg xmlns=\"http://www.w3.org/2000/svg\" height=\"24px\" viewBox=\"0 -960 960 960\">\n",
              "    <path d=\"M120-120v-720h720v720H120Zm60-500h600v-160H180v160Zm220 220h160v-160H400v160Zm0 220h160v-160H400v160ZM180-400h160v-160H180v160Zm440 0h160v-160H620v160ZM180-180h160v-160H180v160Zm440 0h160v-160H620v160Z\"/>\n",
              "  </svg>\n",
              "    </button>\n",
              "\n",
              "  <style>\n",
              "    .colab-df-container {\n",
              "      display:flex;\n",
              "      gap: 12px;\n",
              "    }\n",
              "\n",
              "    .colab-df-convert {\n",
              "      background-color: #E8F0FE;\n",
              "      border: none;\n",
              "      border-radius: 50%;\n",
              "      cursor: pointer;\n",
              "      display: none;\n",
              "      fill: #1967D2;\n",
              "      height: 32px;\n",
              "      padding: 0 0 0 0;\n",
              "      width: 32px;\n",
              "    }\n",
              "\n",
              "    .colab-df-convert:hover {\n",
              "      background-color: #E2EBFA;\n",
              "      box-shadow: 0px 1px 2px rgba(60, 64, 67, 0.3), 0px 1px 3px 1px rgba(60, 64, 67, 0.15);\n",
              "      fill: #174EA6;\n",
              "    }\n",
              "\n",
              "    .colab-df-buttons div {\n",
              "      margin-bottom: 4px;\n",
              "    }\n",
              "\n",
              "    [theme=dark] .colab-df-convert {\n",
              "      background-color: #3B4455;\n",
              "      fill: #D2E3FC;\n",
              "    }\n",
              "\n",
              "    [theme=dark] .colab-df-convert:hover {\n",
              "      background-color: #434B5C;\n",
              "      box-shadow: 0px 1px 3px 1px rgba(0, 0, 0, 0.15);\n",
              "      filter: drop-shadow(0px 1px 2px rgba(0, 0, 0, 0.3));\n",
              "      fill: #FFFFFF;\n",
              "    }\n",
              "  </style>\n",
              "\n",
              "    <script>\n",
              "      const buttonEl =\n",
              "        document.querySelector('#df-d95c9a5b-7387-46e6-9c0c-0aed604271f8 button.colab-df-convert');\n",
              "      buttonEl.style.display =\n",
              "        google.colab.kernel.accessAllowed ? 'block' : 'none';\n",
              "\n",
              "      async function convertToInteractive(key) {\n",
              "        const element = document.querySelector('#df-d95c9a5b-7387-46e6-9c0c-0aed604271f8');\n",
              "        const dataTable =\n",
              "          await google.colab.kernel.invokeFunction('convertToInteractive',\n",
              "                                                    [key], {});\n",
              "        if (!dataTable) return;\n",
              "\n",
              "        const docLinkHtml = 'Like what you see? Visit the ' +\n",
              "          '<a target=\"_blank\" href=https://colab.research.google.com/notebooks/data_table.ipynb>data table notebook</a>'\n",
              "          + ' to learn more about interactive tables.';\n",
              "        element.innerHTML = '';\n",
              "        dataTable['output_type'] = 'display_data';\n",
              "        await google.colab.output.renderOutput(dataTable, element);\n",
              "        const docLink = document.createElement('div');\n",
              "        docLink.innerHTML = docLinkHtml;\n",
              "        element.appendChild(docLink);\n",
              "      }\n",
              "    </script>\n",
              "  </div>\n",
              "\n",
              "\n",
              "<div id=\"df-76a46a18-81b5-4177-a17f-1e83858c5152\">\n",
              "  <button class=\"colab-df-quickchart\" onclick=\"quickchart('df-76a46a18-81b5-4177-a17f-1e83858c5152')\"\n",
              "            title=\"Suggest charts\"\n",
              "            style=\"display:none;\">\n",
              "\n",
              "<svg xmlns=\"http://www.w3.org/2000/svg\" height=\"24px\"viewBox=\"0 0 24 24\"\n",
              "     width=\"24px\">\n",
              "    <g>\n",
              "        <path d=\"M19 3H5c-1.1 0-2 .9-2 2v14c0 1.1.9 2 2 2h14c1.1 0 2-.9 2-2V5c0-1.1-.9-2-2-2zM9 17H7v-7h2v7zm4 0h-2V7h2v10zm4 0h-2v-4h2v4z\"/>\n",
              "    </g>\n",
              "</svg>\n",
              "  </button>\n",
              "\n",
              "<style>\n",
              "  .colab-df-quickchart {\n",
              "      --bg-color: #E8F0FE;\n",
              "      --fill-color: #1967D2;\n",
              "      --hover-bg-color: #E2EBFA;\n",
              "      --hover-fill-color: #174EA6;\n",
              "      --disabled-fill-color: #AAA;\n",
              "      --disabled-bg-color: #DDD;\n",
              "  }\n",
              "\n",
              "  [theme=dark] .colab-df-quickchart {\n",
              "      --bg-color: #3B4455;\n",
              "      --fill-color: #D2E3FC;\n",
              "      --hover-bg-color: #434B5C;\n",
              "      --hover-fill-color: #FFFFFF;\n",
              "      --disabled-bg-color: #3B4455;\n",
              "      --disabled-fill-color: #666;\n",
              "  }\n",
              "\n",
              "  .colab-df-quickchart {\n",
              "    background-color: var(--bg-color);\n",
              "    border: none;\n",
              "    border-radius: 50%;\n",
              "    cursor: pointer;\n",
              "    display: none;\n",
              "    fill: var(--fill-color);\n",
              "    height: 32px;\n",
              "    padding: 0;\n",
              "    width: 32px;\n",
              "  }\n",
              "\n",
              "  .colab-df-quickchart:hover {\n",
              "    background-color: var(--hover-bg-color);\n",
              "    box-shadow: 0 1px 2px rgba(60, 64, 67, 0.3), 0 1px 3px 1px rgba(60, 64, 67, 0.15);\n",
              "    fill: var(--button-hover-fill-color);\n",
              "  }\n",
              "\n",
              "  .colab-df-quickchart-complete:disabled,\n",
              "  .colab-df-quickchart-complete:disabled:hover {\n",
              "    background-color: var(--disabled-bg-color);\n",
              "    fill: var(--disabled-fill-color);\n",
              "    box-shadow: none;\n",
              "  }\n",
              "\n",
              "  .colab-df-spinner {\n",
              "    border: 2px solid var(--fill-color);\n",
              "    border-color: transparent;\n",
              "    border-bottom-color: var(--fill-color);\n",
              "    animation:\n",
              "      spin 1s steps(1) infinite;\n",
              "  }\n",
              "\n",
              "  @keyframes spin {\n",
              "    0% {\n",
              "      border-color: transparent;\n",
              "      border-bottom-color: var(--fill-color);\n",
              "      border-left-color: var(--fill-color);\n",
              "    }\n",
              "    20% {\n",
              "      border-color: transparent;\n",
              "      border-left-color: var(--fill-color);\n",
              "      border-top-color: var(--fill-color);\n",
              "    }\n",
              "    30% {\n",
              "      border-color: transparent;\n",
              "      border-left-color: var(--fill-color);\n",
              "      border-top-color: var(--fill-color);\n",
              "      border-right-color: var(--fill-color);\n",
              "    }\n",
              "    40% {\n",
              "      border-color: transparent;\n",
              "      border-right-color: var(--fill-color);\n",
              "      border-top-color: var(--fill-color);\n",
              "    }\n",
              "    60% {\n",
              "      border-color: transparent;\n",
              "      border-right-color: var(--fill-color);\n",
              "    }\n",
              "    80% {\n",
              "      border-color: transparent;\n",
              "      border-right-color: var(--fill-color);\n",
              "      border-bottom-color: var(--fill-color);\n",
              "    }\n",
              "    90% {\n",
              "      border-color: transparent;\n",
              "      border-bottom-color: var(--fill-color);\n",
              "    }\n",
              "  }\n",
              "</style>\n",
              "\n",
              "  <script>\n",
              "    async function quickchart(key) {\n",
              "      const quickchartButtonEl =\n",
              "        document.querySelector('#' + key + ' button');\n",
              "      quickchartButtonEl.disabled = true;  // To prevent multiple clicks.\n",
              "      quickchartButtonEl.classList.add('colab-df-spinner');\n",
              "      try {\n",
              "        const charts = await google.colab.kernel.invokeFunction(\n",
              "            'suggestCharts', [key], {});\n",
              "      } catch (error) {\n",
              "        console.error('Error during call to suggestCharts:', error);\n",
              "      }\n",
              "      quickchartButtonEl.classList.remove('colab-df-spinner');\n",
              "      quickchartButtonEl.classList.add('colab-df-quickchart-complete');\n",
              "    }\n",
              "    (() => {\n",
              "      let quickchartButtonEl =\n",
              "        document.querySelector('#df-76a46a18-81b5-4177-a17f-1e83858c5152 button');\n",
              "      quickchartButtonEl.style.display =\n",
              "        google.colab.kernel.accessAllowed ? 'block' : 'none';\n",
              "    })();\n",
              "  </script>\n",
              "</div>\n",
              "    </div>\n",
              "  </div>\n"
            ],
            "application/vnd.google.colaboratory.intrinsic+json": {
              "type": "dataframe",
              "variable_name": "exchanges"
            }
          },
          "metadata": {},
          "execution_count": 24
        }
      ]
    },
    {
      "cell_type": "markdown",
      "source": [
        "#**Version: exchanges_1**\n",
        "\n",
        "*   drop nulls\n",
        "*   simplify col names\n",
        "*   convert objects on date types\n",
        "*   add fields with only date and no timestamp"
      ],
      "metadata": {
        "id": "rb2PR3AC7bjy"
      }
    },
    {
      "cell_type": "code",
      "source": [
        "exchanges_1 = exchanges.copy()"
      ],
      "metadata": {
        "id": "KBeFCt7m6-f6"
      },
      "execution_count": null,
      "outputs": []
    },
    {
      "cell_type": "code",
      "source": [
        "exchanges_1.dtypes"
      ],
      "metadata": {
        "colab": {
          "base_uri": "https://localhost:8080/"
        },
        "id": "ACwruN_a7wHl",
        "outputId": "555d73d9-a4a1-49b7-f4fd-c7952574cdd2"
      },
      "execution_count": null,
      "outputs": [
        {
          "output_type": "execute_result",
          "data": {
            "text/plain": [
              "conversation_id                       Int64\n",
              "exchange_id                           Int64\n",
              "created_at                   datetime64[ns]\n",
              "creator_id                            Int64\n",
              "guest_user_id                         Int64\n",
              "host_user_id                          Int64\n",
              "finalized_at            datetime64[us, UTC]\n",
              "canceled_at             datetime64[us, UTC]\n",
              "start_on                     datetime64[ns]\n",
              "end_on                       datetime64[ns]\n",
              "guest_count                           Int64\n",
              "night_count                           Int64\n",
              "user_cancellation_id                  Int64\n",
              "exchange_type                        object\n",
              "home_type                            object\n",
              "residence_type                       object\n",
              "capacity                              Int64\n",
              "country                              object\n",
              "region                               object\n",
              "department                           object\n",
              "city                                 object\n",
              "finalized_at_date            datetime64[us]\n",
              "canceled_at_date             datetime64[us]\n",
              "dtype: object"
            ]
          },
          "metadata": {},
          "execution_count": 26
        }
      ]
    },
    {
      "cell_type": "code",
      "source": [
        "exchanges_1.shape"
      ],
      "metadata": {
        "colab": {
          "base_uri": "https://localhost:8080/"
        },
        "id": "m4sur32u7wFj",
        "outputId": "bd81f0f1-3fe6-43d7-820d-2b757835dd45"
      },
      "execution_count": null,
      "outputs": [
        {
          "output_type": "execute_result",
          "data": {
            "text/plain": [
              "(10062947, 23)"
            ]
          },
          "metadata": {},
          "execution_count": 27
        }
      ]
    },
    {
      "cell_type": "markdown",
      "source": [
        "##**Rows with only special characters**\n",
        "\n",
        "*  Focus on region, department, city"
      ],
      "metadata": {
        "id": "qCu1mr8Nj9fA"
      }
    },
    {
      "cell_type": "code",
      "source": [
        "import pandas as pd\n",
        "import re\n",
        "import string"
      ],
      "metadata": {
        "id": "x4atur0ck3JY"
      },
      "execution_count": null,
      "outputs": []
    },
    {
      "cell_type": "code",
      "source": [
        "# Select specific columns 'region', 'department', 'city'\n",
        "filtered_columns_to_clean = exchanges_1[['region', 'department', 'city']]\n"
      ],
      "metadata": {
        "id": "8WDz-Li8oCDf"
      },
      "execution_count": null,
      "outputs": []
    },
    {
      "cell_type": "code",
      "source": [
        "#find all that is not a character\n",
        "## . means is any character\n",
        "## .+ means one or more\n",
        "## ^ means is not\n",
        "## [] is the range\n",
        "##r\"[^a-zA-z] it includes ?? and R?iga\n",
        "##^[ at the start\n",
        "##]$ means the end of the strins\n",
        "##]+ means 'as many as they are'\n",
        "\n",
        "###r\"^[^a-zA-z]+$"
      ],
      "metadata": {
        "id": "BhM4WnFbAz-c"
      },
      "execution_count": null,
      "outputs": []
    },
    {
      "cell_type": "code",
      "source": [
        "pattern = \"^[^a-zA-z]+$\" #regex regular expression to exclude strings with characters"
      ],
      "metadata": {
        "id": "rYLAEX5cCxht"
      },
      "execution_count": null,
      "outputs": []
    },
    {
      "cell_type": "code",
      "source": [
        "exchanges_1['region'].str.contains(r\"^[^a-zA-z]+$\").sum()"
      ],
      "metadata": {
        "colab": {
          "base_uri": "https://localhost:8080/"
        },
        "id": "ufI1DWw4Dh-v",
        "outputId": "42712f59-00b8-42ae-ea77-67684e716c77"
      },
      "execution_count": null,
      "outputs": [
        {
          "output_type": "execute_result",
          "data": {
            "text/plain": [
              "715"
            ]
          },
          "metadata": {},
          "execution_count": 32
        }
      ]
    },
    {
      "cell_type": "code",
      "source": [
        "exchanges_1['department'].str.contains(r\"^[^a-zA-z]+$\").sum()"
      ],
      "metadata": {
        "colab": {
          "base_uri": "https://localhost:8080/"
        },
        "id": "QZmsM7mvGD7z",
        "outputId": "120a0f8f-19ab-4d11-9b7c-d7841f761b06"
      },
      "execution_count": null,
      "outputs": [
        {
          "output_type": "execute_result",
          "data": {
            "text/plain": [
              "226"
            ]
          },
          "metadata": {},
          "execution_count": 33
        }
      ]
    },
    {
      "cell_type": "code",
      "source": [
        "exchanges_1['city'].str.contains(r\"^[^a-zA-z]+$\").sum()"
      ],
      "metadata": {
        "colab": {
          "base_uri": "https://localhost:8080/"
        },
        "id": "fnVh85O6GGCh",
        "outputId": "5d9495d9-35c4-43c9-c64f-a6f1770ed2c4"
      },
      "execution_count": null,
      "outputs": [
        {
          "output_type": "execute_result",
          "data": {
            "text/plain": [
              "259"
            ]
          },
          "metadata": {},
          "execution_count": 34
        }
      ]
    },
    {
      "cell_type": "code",
      "source": [
        "# Find the rows to delete where 'region' matches the pattern\n",
        "to_delete_region = exchanges_1['region'].str.contains(pattern, na=False)"
      ],
      "metadata": {
        "id": "fIeY-KkFGRDG"
      },
      "execution_count": null,
      "outputs": []
    },
    {
      "cell_type": "code",
      "source": [
        "to_delete_region.sum()"
      ],
      "metadata": {
        "colab": {
          "base_uri": "https://localhost:8080/"
        },
        "id": "jgrIJJ84Hi5l",
        "outputId": "0f1a362c-7f80-4273-ca43-39a7945919ea"
      },
      "execution_count": null,
      "outputs": [
        {
          "output_type": "execute_result",
          "data": {
            "text/plain": [
              "715"
            ]
          },
          "metadata": {},
          "execution_count": 36
        }
      ]
    },
    {
      "cell_type": "code",
      "source": [
        "exchanges_1 = exchanges_1[~to_delete_region]"
      ],
      "metadata": {
        "id": "pHqmzwnhH2c5"
      },
      "execution_count": null,
      "outputs": []
    },
    {
      "cell_type": "code",
      "source": [
        "exchanges_1.shape\n",
        "\n",
        "#original = (10062947, 23)\n",
        "#new = (10062232, 23)"
      ],
      "metadata": {
        "colab": {
          "base_uri": "https://localhost:8080/"
        },
        "id": "Z9yzb5QcHm8O",
        "outputId": "b8f3bfe6-dbf0-439f-c58b-e1caf1877096"
      },
      "execution_count": null,
      "outputs": [
        {
          "output_type": "execute_result",
          "data": {
            "text/plain": [
              "(10062232, 23)"
            ]
          },
          "metadata": {},
          "execution_count": 38
        }
      ]
    },
    {
      "cell_type": "code",
      "source": [
        "# Find the rows to delete where 'department' matches the pattern\n",
        "to_delete_dep = exchanges_1['department'].str.contains(pattern, na=False)"
      ],
      "metadata": {
        "id": "D_SVYauLIKl_"
      },
      "execution_count": null,
      "outputs": []
    },
    {
      "cell_type": "code",
      "source": [
        "to_delete_dep.sum()"
      ],
      "metadata": {
        "colab": {
          "base_uri": "https://localhost:8080/"
        },
        "id": "W03rucq4IKeW",
        "outputId": "9636f8b7-a56c-4f9f-a260-7fe61809e61b"
      },
      "execution_count": null,
      "outputs": [
        {
          "output_type": "execute_result",
          "data": {
            "text/plain": [
              "73"
            ]
          },
          "metadata": {},
          "execution_count": 40
        }
      ]
    },
    {
      "cell_type": "code",
      "source": [
        "exchanges_1 = exchanges_1[~to_delete_dep]"
      ],
      "metadata": {
        "id": "ijmPdAj_ISP-"
      },
      "execution_count": null,
      "outputs": []
    },
    {
      "cell_type": "code",
      "source": [
        "exchanges_1.shape\n",
        "\n",
        "#original = (10062947, 23)\n",
        "#new_region_deleted = (10062232, 23)\n",
        "#new_dep_deleted = (10062159, 23)"
      ],
      "metadata": {
        "colab": {
          "base_uri": "https://localhost:8080/"
        },
        "id": "rH60-VLWIXS4",
        "outputId": "c8a55692-24a5-498b-b4ed-f7c9887f4b24"
      },
      "execution_count": null,
      "outputs": [
        {
          "output_type": "execute_result",
          "data": {
            "text/plain": [
              "(10062159, 23)"
            ]
          },
          "metadata": {},
          "execution_count": 42
        }
      ]
    },
    {
      "cell_type": "code",
      "source": [
        "# Find the rows to delete where 'city' matches the pattern\n",
        "to_delete_city = exchanges_1['city'].str.contains(pattern, na=False)"
      ],
      "metadata": {
        "id": "xNG0_UAYIfGf"
      },
      "execution_count": null,
      "outputs": []
    },
    {
      "cell_type": "code",
      "source": [
        "to_delete_city.sum()"
      ],
      "metadata": {
        "colab": {
          "base_uri": "https://localhost:8080/"
        },
        "id": "gvIL2g6MInWw",
        "outputId": "7a212221-0e6f-48c9-90bc-9541d7f09f89"
      },
      "execution_count": null,
      "outputs": [
        {
          "output_type": "execute_result",
          "data": {
            "text/plain": [
              "220"
            ]
          },
          "metadata": {},
          "execution_count": 44
        }
      ]
    },
    {
      "cell_type": "code",
      "source": [
        "exchanges_1 = exchanges_1[~to_delete_city]"
      ],
      "metadata": {
        "id": "I9QCw0gbIq3h"
      },
      "execution_count": null,
      "outputs": []
    },
    {
      "cell_type": "code",
      "source": [
        "exchanges_1.shape\n",
        "\n",
        "#original = (10062947, 23)\n",
        "#new_region_deleted = (10062232, 23)\n",
        "#new_dep_deleted = (10062159, 23)\n",
        "#new_city_deleted = (10061939, 23)\n",
        "\n",
        "#total deleted rows = 715 + 73 + 220 = 1,008 == 0,01%"
      ],
      "metadata": {
        "colab": {
          "base_uri": "https://localhost:8080/"
        },
        "id": "nlX-1XVFIuuw",
        "outputId": "8f060c32-3eac-4143-cc22-bbb7ba128c5c"
      },
      "execution_count": null,
      "outputs": [
        {
          "output_type": "execute_result",
          "data": {
            "text/plain": [
              "(10061939, 23)"
            ]
          },
          "metadata": {},
          "execution_count": 46
        }
      ]
    },
    {
      "cell_type": "markdown",
      "source": [
        "# **Version: exchanges_2**\n",
        "\n",
        "* Removed rows with only special characters"
      ],
      "metadata": {
        "id": "orrMI6QTJVc_"
      }
    },
    {
      "cell_type": "code",
      "source": [
        "exchanges_2 = exchanges_1.copy()"
      ],
      "metadata": {
        "id": "YyLePAETJmcb"
      },
      "execution_count": null,
      "outputs": []
    },
    {
      "cell_type": "code",
      "source": [
        "exchanges_2.shape"
      ],
      "metadata": {
        "colab": {
          "base_uri": "https://localhost:8080/"
        },
        "id": "WFdoYY5fJtkR",
        "outputId": "a76e8e46-6fec-436c-ce95-aee43ddf6008"
      },
      "execution_count": null,
      "outputs": [
        {
          "output_type": "execute_result",
          "data": {
            "text/plain": [
              "(10061939, 23)"
            ]
          },
          "metadata": {},
          "execution_count": 48
        }
      ]
    },
    {
      "cell_type": "markdown",
      "source": [
        "##**Identify cells with special characters**\n",
        "\n",
        "*  region, department, city"
      ],
      "metadata": {
        "id": "ZnSXw5OsJ27_"
      }
    },
    {
      "cell_type": "code",
      "source": [
        "# Select specific columns 'region', 'department', 'city'\n",
        "filtered_columns_to_clean = exchanges_2[['region', 'department', 'city']]"
      ],
      "metadata": {
        "id": "W7BdlNgqKViE"
      },
      "execution_count": null,
      "outputs": []
    },
    {
      "cell_type": "code",
      "source": [
        "# Define your set of special characters (modify as needed)\n",
        "special_characters_pattern = r'[!\"#$%&\\'()*+,\\-./:;<=>?@\\[\\\\\\]^_`{|}~]'\n",
        "\n",
        "# Example usage:\n",
        "#text = \"This is a string with special characters like !@#$%^&*()_+{}[]~`\"\n",
        "#matches = re.findall(special_characters_pattern, text)\n",
        "#print(\"Special characters found:\", matches)"
      ],
      "metadata": {
        "id": "aYRWyyn7OYg4"
      },
      "execution_count": null,
      "outputs": []
    },
    {
      "cell_type": "code",
      "source": [
        "# List to store results\n",
        "non_alpha_regions = []"
      ],
      "metadata": {
        "id": "jg6CjMUAQXlz"
      },
      "execution_count": null,
      "outputs": []
    },
    {
      "cell_type": "code",
      "source": [
        "# Iterate over each row in the 'region' column and find special characters\n",
        "for region in exchanges_2['region']:\n",
        "    matches = re.findall(special_characters_pattern, region)\n",
        "    if matches:\n",
        "        non_alpha_regions.extend(matches)\n",
        "\n",
        "print(\"Special characters found in 'region' column:\", non_alpha_regions)"
      ],
      "metadata": {
        "colab": {
          "base_uri": "https://localhost:8080/"
        },
        "id": "U_Tsa1vwNRbT",
        "outputId": "f239594d-a3c8-45a1-8908-ccdeff754931"
      },
      "execution_count": null,
      "outputs": [
        {
          "output_type": "stream",
          "name": "stderr",
          "text": [
            "IOPub data rate exceeded.\n",
            "The notebook server will temporarily stop sending output\n",
            "to the client in order to avoid crashing it.\n",
            "To change this limit, set the config variable\n",
            "`--NotebookApp.iopub_data_rate_limit`.\n",
            "\n",
            "Current values:\n",
            "NotebookApp.iopub_data_rate_limit=1000000.0 (bytes/sec)\n",
            "NotebookApp.rate_limit_window=3.0 (secs)\n",
            "\n"
          ]
        }
      ]
    },
    {
      "cell_type": "code",
      "source": [
        "# Convert the list to a set to get distinct special characters\n",
        "distinct_special_characters = set(non_alpha_regions)\n",
        "\n",
        "distinct_special_characters"
      ],
      "metadata": {
        "colab": {
          "base_uri": "https://localhost:8080/"
        },
        "id": "mbJrLzPLQh9D",
        "outputId": "33c6c4df-1eb6-451d-93aa-0f1b16ea5e8f"
      },
      "execution_count": null,
      "outputs": [
        {
          "output_type": "execute_result",
          "data": {
            "text/plain": [
              "{\"'\", ',', '-', '.', '/', '?'}"
            ]
          },
          "metadata": {},
          "execution_count": 53
        }
      ]
    },
    {
      "cell_type": "markdown",
      "source": [
        "🎯 **NEXT:** count entries with \"?\" and \"/\" special character"
      ],
      "metadata": {
        "id": "L6yfOd_ZTeDB"
      }
    },
    {
      "cell_type": "code",
      "source": [
        "# Count occurrences of specific characters '/' and '?'\n",
        "count_slash_question = non_alpha_regions.count('/') + non_alpha_regions.count('?')\n",
        "\n",
        "print(f\"Total rows with '/' or '?': {count_slash_question}\")"
      ],
      "metadata": {
        "colab": {
          "base_uri": "https://localhost:8080/"
        },
        "id": "0uNW4FGvRAHL",
        "outputId": "aa8db24c-96ca-4e10-fe1c-2905e52e70b2"
      },
      "execution_count": null,
      "outputs": [
        {
          "output_type": "stream",
          "name": "stdout",
          "text": [
            "Total rows with '/' or '?': 26514\n"
          ]
        }
      ]
    },
    {
      "cell_type": "markdown",
      "source": [
        "🎯**NEXT:** check entries with \"/\" special character"
      ],
      "metadata": {
        "id": "EBrE3zfZTiPI"
      }
    },
    {
      "cell_type": "code",
      "source": [
        "# Find rows in 'region' column that contain '/'\n",
        "rows_with_slash = exchanges_2[exchanges_2['region'].str.contains('/', na=False)]\n",
        "\n",
        "# Display the rows\n",
        "rows_with_slash[['region', 'department', 'city']]"
      ],
      "metadata": {
        "colab": {
          "base_uri": "https://localhost:8080/",
          "height": 423
        },
        "collapsed": true,
        "id": "YNz-GniWRXr0",
        "outputId": "f2d0f85d-ec2f-4423-cb78-44db7a1a938b"
      },
      "execution_count": null,
      "outputs": [
        {
          "output_type": "execute_result",
          "data": {
            "text/plain": [
              "                          region              department  \\\n",
              "1367          País Vasco/Euskadi               Guipúzcoa   \n",
              "7272      Acklins/Crooked Island  Acklins/Crooked Island   \n",
              "16264         País Vasco/Euskadi               Guipúzcoa   \n",
              "70074     Acklins/Crooked Island  Acklins/Crooked Island   \n",
              "70558         País Vasco/Euskadi               Guipúzcoa   \n",
              "...                          ...                     ...   \n",
              "11865186      País Vasco/Euskadi                 Vizcaya   \n",
              "11884115      País Vasco/Euskadi                 Vizcaya   \n",
              "11902819      País Vasco/Euskadi                 Vizcaya   \n",
              "11912648      País Vasco/Euskadi                Albacete   \n",
              "11937726      País Vasco/Euskadi                 Vizcaya   \n",
              "\n",
              "                            city  \n",
              "1367                    Guetaria  \n",
              "7272      Acklins/Crooked Island  \n",
              "16264              San Sebastián  \n",
              "70074     Acklins/Crooked Island  \n",
              "70558                   Guetaria  \n",
              "...                          ...  \n",
              "11865186                  Alzaga  \n",
              "11884115                  Alzaga  \n",
              "11902819                  Alzaga  \n",
              "11912648                 Vitoria  \n",
              "11937726                  Alzaga  \n",
              "\n",
              "[863 rows x 3 columns]"
            ],
            "text/html": [
              "\n",
              "  <div id=\"df-787365b3-a3a4-46b7-9f13-e3d0434b25f1\" class=\"colab-df-container\">\n",
              "    <div>\n",
              "<style scoped>\n",
              "    .dataframe tbody tr th:only-of-type {\n",
              "        vertical-align: middle;\n",
              "    }\n",
              "\n",
              "    .dataframe tbody tr th {\n",
              "        vertical-align: top;\n",
              "    }\n",
              "\n",
              "    .dataframe thead th {\n",
              "        text-align: right;\n",
              "    }\n",
              "</style>\n",
              "<table border=\"1\" class=\"dataframe\">\n",
              "  <thead>\n",
              "    <tr style=\"text-align: right;\">\n",
              "      <th></th>\n",
              "      <th>region</th>\n",
              "      <th>department</th>\n",
              "      <th>city</th>\n",
              "    </tr>\n",
              "  </thead>\n",
              "  <tbody>\n",
              "    <tr>\n",
              "      <th>1367</th>\n",
              "      <td>País Vasco/Euskadi</td>\n",
              "      <td>Guipúzcoa</td>\n",
              "      <td>Guetaria</td>\n",
              "    </tr>\n",
              "    <tr>\n",
              "      <th>7272</th>\n",
              "      <td>Acklins/Crooked Island</td>\n",
              "      <td>Acklins/Crooked Island</td>\n",
              "      <td>Acklins/Crooked Island</td>\n",
              "    </tr>\n",
              "    <tr>\n",
              "      <th>16264</th>\n",
              "      <td>País Vasco/Euskadi</td>\n",
              "      <td>Guipúzcoa</td>\n",
              "      <td>San Sebastián</td>\n",
              "    </tr>\n",
              "    <tr>\n",
              "      <th>70074</th>\n",
              "      <td>Acklins/Crooked Island</td>\n",
              "      <td>Acklins/Crooked Island</td>\n",
              "      <td>Acklins/Crooked Island</td>\n",
              "    </tr>\n",
              "    <tr>\n",
              "      <th>70558</th>\n",
              "      <td>País Vasco/Euskadi</td>\n",
              "      <td>Guipúzcoa</td>\n",
              "      <td>Guetaria</td>\n",
              "    </tr>\n",
              "    <tr>\n",
              "      <th>...</th>\n",
              "      <td>...</td>\n",
              "      <td>...</td>\n",
              "      <td>...</td>\n",
              "    </tr>\n",
              "    <tr>\n",
              "      <th>11865186</th>\n",
              "      <td>País Vasco/Euskadi</td>\n",
              "      <td>Vizcaya</td>\n",
              "      <td>Alzaga</td>\n",
              "    </tr>\n",
              "    <tr>\n",
              "      <th>11884115</th>\n",
              "      <td>País Vasco/Euskadi</td>\n",
              "      <td>Vizcaya</td>\n",
              "      <td>Alzaga</td>\n",
              "    </tr>\n",
              "    <tr>\n",
              "      <th>11902819</th>\n",
              "      <td>País Vasco/Euskadi</td>\n",
              "      <td>Vizcaya</td>\n",
              "      <td>Alzaga</td>\n",
              "    </tr>\n",
              "    <tr>\n",
              "      <th>11912648</th>\n",
              "      <td>País Vasco/Euskadi</td>\n",
              "      <td>Albacete</td>\n",
              "      <td>Vitoria</td>\n",
              "    </tr>\n",
              "    <tr>\n",
              "      <th>11937726</th>\n",
              "      <td>País Vasco/Euskadi</td>\n",
              "      <td>Vizcaya</td>\n",
              "      <td>Alzaga</td>\n",
              "    </tr>\n",
              "  </tbody>\n",
              "</table>\n",
              "<p>863 rows × 3 columns</p>\n",
              "</div>\n",
              "    <div class=\"colab-df-buttons\">\n",
              "\n",
              "  <div class=\"colab-df-container\">\n",
              "    <button class=\"colab-df-convert\" onclick=\"convertToInteractive('df-787365b3-a3a4-46b7-9f13-e3d0434b25f1')\"\n",
              "            title=\"Convert this dataframe to an interactive table.\"\n",
              "            style=\"display:none;\">\n",
              "\n",
              "  <svg xmlns=\"http://www.w3.org/2000/svg\" height=\"24px\" viewBox=\"0 -960 960 960\">\n",
              "    <path d=\"M120-120v-720h720v720H120Zm60-500h600v-160H180v160Zm220 220h160v-160H400v160Zm0 220h160v-160H400v160ZM180-400h160v-160H180v160Zm440 0h160v-160H620v160ZM180-180h160v-160H180v160Zm440 0h160v-160H620v160Z\"/>\n",
              "  </svg>\n",
              "    </button>\n",
              "\n",
              "  <style>\n",
              "    .colab-df-container {\n",
              "      display:flex;\n",
              "      gap: 12px;\n",
              "    }\n",
              "\n",
              "    .colab-df-convert {\n",
              "      background-color: #E8F0FE;\n",
              "      border: none;\n",
              "      border-radius: 50%;\n",
              "      cursor: pointer;\n",
              "      display: none;\n",
              "      fill: #1967D2;\n",
              "      height: 32px;\n",
              "      padding: 0 0 0 0;\n",
              "      width: 32px;\n",
              "    }\n",
              "\n",
              "    .colab-df-convert:hover {\n",
              "      background-color: #E2EBFA;\n",
              "      box-shadow: 0px 1px 2px rgba(60, 64, 67, 0.3), 0px 1px 3px 1px rgba(60, 64, 67, 0.15);\n",
              "      fill: #174EA6;\n",
              "    }\n",
              "\n",
              "    .colab-df-buttons div {\n",
              "      margin-bottom: 4px;\n",
              "    }\n",
              "\n",
              "    [theme=dark] .colab-df-convert {\n",
              "      background-color: #3B4455;\n",
              "      fill: #D2E3FC;\n",
              "    }\n",
              "\n",
              "    [theme=dark] .colab-df-convert:hover {\n",
              "      background-color: #434B5C;\n",
              "      box-shadow: 0px 1px 3px 1px rgba(0, 0, 0, 0.15);\n",
              "      filter: drop-shadow(0px 1px 2px rgba(0, 0, 0, 0.3));\n",
              "      fill: #FFFFFF;\n",
              "    }\n",
              "  </style>\n",
              "\n",
              "    <script>\n",
              "      const buttonEl =\n",
              "        document.querySelector('#df-787365b3-a3a4-46b7-9f13-e3d0434b25f1 button.colab-df-convert');\n",
              "      buttonEl.style.display =\n",
              "        google.colab.kernel.accessAllowed ? 'block' : 'none';\n",
              "\n",
              "      async function convertToInteractive(key) {\n",
              "        const element = document.querySelector('#df-787365b3-a3a4-46b7-9f13-e3d0434b25f1');\n",
              "        const dataTable =\n",
              "          await google.colab.kernel.invokeFunction('convertToInteractive',\n",
              "                                                    [key], {});\n",
              "        if (!dataTable) return;\n",
              "\n",
              "        const docLinkHtml = 'Like what you see? Visit the ' +\n",
              "          '<a target=\"_blank\" href=https://colab.research.google.com/notebooks/data_table.ipynb>data table notebook</a>'\n",
              "          + ' to learn more about interactive tables.';\n",
              "        element.innerHTML = '';\n",
              "        dataTable['output_type'] = 'display_data';\n",
              "        await google.colab.output.renderOutput(dataTable, element);\n",
              "        const docLink = document.createElement('div');\n",
              "        docLink.innerHTML = docLinkHtml;\n",
              "        element.appendChild(docLink);\n",
              "      }\n",
              "    </script>\n",
              "  </div>\n",
              "\n",
              "\n",
              "<div id=\"df-ea5769d6-2c43-44db-85fa-aa4e62373c5b\">\n",
              "  <button class=\"colab-df-quickchart\" onclick=\"quickchart('df-ea5769d6-2c43-44db-85fa-aa4e62373c5b')\"\n",
              "            title=\"Suggest charts\"\n",
              "            style=\"display:none;\">\n",
              "\n",
              "<svg xmlns=\"http://www.w3.org/2000/svg\" height=\"24px\"viewBox=\"0 0 24 24\"\n",
              "     width=\"24px\">\n",
              "    <g>\n",
              "        <path d=\"M19 3H5c-1.1 0-2 .9-2 2v14c0 1.1.9 2 2 2h14c1.1 0 2-.9 2-2V5c0-1.1-.9-2-2-2zM9 17H7v-7h2v7zm4 0h-2V7h2v10zm4 0h-2v-4h2v4z\"/>\n",
              "    </g>\n",
              "</svg>\n",
              "  </button>\n",
              "\n",
              "<style>\n",
              "  .colab-df-quickchart {\n",
              "      --bg-color: #E8F0FE;\n",
              "      --fill-color: #1967D2;\n",
              "      --hover-bg-color: #E2EBFA;\n",
              "      --hover-fill-color: #174EA6;\n",
              "      --disabled-fill-color: #AAA;\n",
              "      --disabled-bg-color: #DDD;\n",
              "  }\n",
              "\n",
              "  [theme=dark] .colab-df-quickchart {\n",
              "      --bg-color: #3B4455;\n",
              "      --fill-color: #D2E3FC;\n",
              "      --hover-bg-color: #434B5C;\n",
              "      --hover-fill-color: #FFFFFF;\n",
              "      --disabled-bg-color: #3B4455;\n",
              "      --disabled-fill-color: #666;\n",
              "  }\n",
              "\n",
              "  .colab-df-quickchart {\n",
              "    background-color: var(--bg-color);\n",
              "    border: none;\n",
              "    border-radius: 50%;\n",
              "    cursor: pointer;\n",
              "    display: none;\n",
              "    fill: var(--fill-color);\n",
              "    height: 32px;\n",
              "    padding: 0;\n",
              "    width: 32px;\n",
              "  }\n",
              "\n",
              "  .colab-df-quickchart:hover {\n",
              "    background-color: var(--hover-bg-color);\n",
              "    box-shadow: 0 1px 2px rgba(60, 64, 67, 0.3), 0 1px 3px 1px rgba(60, 64, 67, 0.15);\n",
              "    fill: var(--button-hover-fill-color);\n",
              "  }\n",
              "\n",
              "  .colab-df-quickchart-complete:disabled,\n",
              "  .colab-df-quickchart-complete:disabled:hover {\n",
              "    background-color: var(--disabled-bg-color);\n",
              "    fill: var(--disabled-fill-color);\n",
              "    box-shadow: none;\n",
              "  }\n",
              "\n",
              "  .colab-df-spinner {\n",
              "    border: 2px solid var(--fill-color);\n",
              "    border-color: transparent;\n",
              "    border-bottom-color: var(--fill-color);\n",
              "    animation:\n",
              "      spin 1s steps(1) infinite;\n",
              "  }\n",
              "\n",
              "  @keyframes spin {\n",
              "    0% {\n",
              "      border-color: transparent;\n",
              "      border-bottom-color: var(--fill-color);\n",
              "      border-left-color: var(--fill-color);\n",
              "    }\n",
              "    20% {\n",
              "      border-color: transparent;\n",
              "      border-left-color: var(--fill-color);\n",
              "      border-top-color: var(--fill-color);\n",
              "    }\n",
              "    30% {\n",
              "      border-color: transparent;\n",
              "      border-left-color: var(--fill-color);\n",
              "      border-top-color: var(--fill-color);\n",
              "      border-right-color: var(--fill-color);\n",
              "    }\n",
              "    40% {\n",
              "      border-color: transparent;\n",
              "      border-right-color: var(--fill-color);\n",
              "      border-top-color: var(--fill-color);\n",
              "    }\n",
              "    60% {\n",
              "      border-color: transparent;\n",
              "      border-right-color: var(--fill-color);\n",
              "    }\n",
              "    80% {\n",
              "      border-color: transparent;\n",
              "      border-right-color: var(--fill-color);\n",
              "      border-bottom-color: var(--fill-color);\n",
              "    }\n",
              "    90% {\n",
              "      border-color: transparent;\n",
              "      border-bottom-color: var(--fill-color);\n",
              "    }\n",
              "  }\n",
              "</style>\n",
              "\n",
              "  <script>\n",
              "    async function quickchart(key) {\n",
              "      const quickchartButtonEl =\n",
              "        document.querySelector('#' + key + ' button');\n",
              "      quickchartButtonEl.disabled = true;  // To prevent multiple clicks.\n",
              "      quickchartButtonEl.classList.add('colab-df-spinner');\n",
              "      try {\n",
              "        const charts = await google.colab.kernel.invokeFunction(\n",
              "            'suggestCharts', [key], {});\n",
              "      } catch (error) {\n",
              "        console.error('Error during call to suggestCharts:', error);\n",
              "      }\n",
              "      quickchartButtonEl.classList.remove('colab-df-spinner');\n",
              "      quickchartButtonEl.classList.add('colab-df-quickchart-complete');\n",
              "    }\n",
              "    (() => {\n",
              "      let quickchartButtonEl =\n",
              "        document.querySelector('#df-ea5769d6-2c43-44db-85fa-aa4e62373c5b button');\n",
              "      quickchartButtonEl.style.display =\n",
              "        google.colab.kernel.accessAllowed ? 'block' : 'none';\n",
              "    })();\n",
              "  </script>\n",
              "</div>\n",
              "    </div>\n",
              "  </div>\n"
            ],
            "application/vnd.google.colaboratory.intrinsic+json": {
              "type": "dataframe",
              "summary": "{\n  \"name\": \"rows_with_slash[['region', 'department', 'city']]\",\n  \"rows\": 863,\n  \"fields\": [\n    {\n      \"column\": \"region\",\n      \"properties\": {\n        \"dtype\": \"category\",\n        \"num_unique_values\": 7,\n        \"samples\": [\n          \"Pa\\u00eds Vasco/Euskadi\",\n          \"Acklins/Crooked Island\",\n          \"Trentino-Alto Adige/south Tyrol\"\n        ],\n        \"semantic_type\": \"\",\n        \"description\": \"\"\n      }\n    },\n    {\n      \"column\": \"department\",\n      \"properties\": {\n        \"dtype\": \"category\",\n        \"num_unique_values\": 10,\n        \"samples\": [\n          \"Trento\",\n          \"Acklins/Crooked Island\",\n          \"Urban\"\n        ],\n        \"semantic_type\": \"\",\n        \"description\": \"\"\n      }\n    },\n    {\n      \"column\": \"city\",\n      \"properties\": {\n        \"dtype\": \"category\",\n        \"num_unique_values\": 39,\n        \"samples\": [\n          \"Comune di Siror\",\n          \"Fai della Paganella\",\n          \"Vitoria\"\n        ],\n        \"semantic_type\": \"\",\n        \"description\": \"\"\n      }\n    }\n  ]\n}"
            }
          },
          "metadata": {},
          "execution_count": 55
        }
      ]
    },
    {
      "cell_type": "code",
      "source": [
        "# Find rows in 'department' column that contain '/'\n",
        "rows_with_slash = exchanges_2[exchanges_2['department'].str.contains('/', na=False)]\n",
        "\n",
        "# Display the rows\n",
        "rows_with_slash[['region', 'department', 'city']]"
      ],
      "metadata": {
        "colab": {
          "base_uri": "https://localhost:8080/",
          "height": 423
        },
        "id": "DUzJRZ8IURdK",
        "outputId": "9ce68618-787a-4eca-ce0b-9c935d34fb78"
      },
      "execution_count": null,
      "outputs": [
        {
          "output_type": "execute_result",
          "data": {
            "text/plain": [
              "                          region              department  \\\n",
              "2887                  Graubünden         Prättigau/davos   \n",
              "7272      Acklins/Crooked Island  Acklins/Crooked Island   \n",
              "24382                   Fribourg                 See/Lac   \n",
              "28238                 Graubünden         Prättigau/davos   \n",
              "41673                 Graubünden         Prättigau/davos   \n",
              "...                          ...                     ...   \n",
              "11952796                Freiburg                 See/Lac   \n",
              "11952797                Freiburg                 See/Lac   \n",
              "11954491                Fribourg                 See/Lac   \n",
              "11966730                Freiburg                 See/Lac   \n",
              "11969517                Fribourg                 See/Lac   \n",
              "\n",
              "                            city  \n",
              "2887                 Davos Platz  \n",
              "7272      Acklins/Crooked Island  \n",
              "24382                      Morat  \n",
              "28238                Davos Platz  \n",
              "41673                Davos Platz  \n",
              "...                          ...  \n",
              "11952796              Mont-Vully  \n",
              "11952797              Mont-Vully  \n",
              "11954491               Cormondes  \n",
              "11966730              Mont-Vully  \n",
              "11969517                   Morat  \n",
              "\n",
              "[1609 rows x 3 columns]"
            ],
            "text/html": [
              "\n",
              "  <div id=\"df-67b1faf2-d08c-40f9-86d0-bd061aa72154\" class=\"colab-df-container\">\n",
              "    <div>\n",
              "<style scoped>\n",
              "    .dataframe tbody tr th:only-of-type {\n",
              "        vertical-align: middle;\n",
              "    }\n",
              "\n",
              "    .dataframe tbody tr th {\n",
              "        vertical-align: top;\n",
              "    }\n",
              "\n",
              "    .dataframe thead th {\n",
              "        text-align: right;\n",
              "    }\n",
              "</style>\n",
              "<table border=\"1\" class=\"dataframe\">\n",
              "  <thead>\n",
              "    <tr style=\"text-align: right;\">\n",
              "      <th></th>\n",
              "      <th>region</th>\n",
              "      <th>department</th>\n",
              "      <th>city</th>\n",
              "    </tr>\n",
              "  </thead>\n",
              "  <tbody>\n",
              "    <tr>\n",
              "      <th>2887</th>\n",
              "      <td>Graubünden</td>\n",
              "      <td>Prättigau/davos</td>\n",
              "      <td>Davos Platz</td>\n",
              "    </tr>\n",
              "    <tr>\n",
              "      <th>7272</th>\n",
              "      <td>Acklins/Crooked Island</td>\n",
              "      <td>Acklins/Crooked Island</td>\n",
              "      <td>Acklins/Crooked Island</td>\n",
              "    </tr>\n",
              "    <tr>\n",
              "      <th>24382</th>\n",
              "      <td>Fribourg</td>\n",
              "      <td>See/Lac</td>\n",
              "      <td>Morat</td>\n",
              "    </tr>\n",
              "    <tr>\n",
              "      <th>28238</th>\n",
              "      <td>Graubünden</td>\n",
              "      <td>Prättigau/davos</td>\n",
              "      <td>Davos Platz</td>\n",
              "    </tr>\n",
              "    <tr>\n",
              "      <th>41673</th>\n",
              "      <td>Graubünden</td>\n",
              "      <td>Prättigau/davos</td>\n",
              "      <td>Davos Platz</td>\n",
              "    </tr>\n",
              "    <tr>\n",
              "      <th>...</th>\n",
              "      <td>...</td>\n",
              "      <td>...</td>\n",
              "      <td>...</td>\n",
              "    </tr>\n",
              "    <tr>\n",
              "      <th>11952796</th>\n",
              "      <td>Freiburg</td>\n",
              "      <td>See/Lac</td>\n",
              "      <td>Mont-Vully</td>\n",
              "    </tr>\n",
              "    <tr>\n",
              "      <th>11952797</th>\n",
              "      <td>Freiburg</td>\n",
              "      <td>See/Lac</td>\n",
              "      <td>Mont-Vully</td>\n",
              "    </tr>\n",
              "    <tr>\n",
              "      <th>11954491</th>\n",
              "      <td>Fribourg</td>\n",
              "      <td>See/Lac</td>\n",
              "      <td>Cormondes</td>\n",
              "    </tr>\n",
              "    <tr>\n",
              "      <th>11966730</th>\n",
              "      <td>Freiburg</td>\n",
              "      <td>See/Lac</td>\n",
              "      <td>Mont-Vully</td>\n",
              "    </tr>\n",
              "    <tr>\n",
              "      <th>11969517</th>\n",
              "      <td>Fribourg</td>\n",
              "      <td>See/Lac</td>\n",
              "      <td>Morat</td>\n",
              "    </tr>\n",
              "  </tbody>\n",
              "</table>\n",
              "<p>1609 rows × 3 columns</p>\n",
              "</div>\n",
              "    <div class=\"colab-df-buttons\">\n",
              "\n",
              "  <div class=\"colab-df-container\">\n",
              "    <button class=\"colab-df-convert\" onclick=\"convertToInteractive('df-67b1faf2-d08c-40f9-86d0-bd061aa72154')\"\n",
              "            title=\"Convert this dataframe to an interactive table.\"\n",
              "            style=\"display:none;\">\n",
              "\n",
              "  <svg xmlns=\"http://www.w3.org/2000/svg\" height=\"24px\" viewBox=\"0 -960 960 960\">\n",
              "    <path d=\"M120-120v-720h720v720H120Zm60-500h600v-160H180v160Zm220 220h160v-160H400v160Zm0 220h160v-160H400v160ZM180-400h160v-160H180v160Zm440 0h160v-160H620v160ZM180-180h160v-160H180v160Zm440 0h160v-160H620v160Z\"/>\n",
              "  </svg>\n",
              "    </button>\n",
              "\n",
              "  <style>\n",
              "    .colab-df-container {\n",
              "      display:flex;\n",
              "      gap: 12px;\n",
              "    }\n",
              "\n",
              "    .colab-df-convert {\n",
              "      background-color: #E8F0FE;\n",
              "      border: none;\n",
              "      border-radius: 50%;\n",
              "      cursor: pointer;\n",
              "      display: none;\n",
              "      fill: #1967D2;\n",
              "      height: 32px;\n",
              "      padding: 0 0 0 0;\n",
              "      width: 32px;\n",
              "    }\n",
              "\n",
              "    .colab-df-convert:hover {\n",
              "      background-color: #E2EBFA;\n",
              "      box-shadow: 0px 1px 2px rgba(60, 64, 67, 0.3), 0px 1px 3px 1px rgba(60, 64, 67, 0.15);\n",
              "      fill: #174EA6;\n",
              "    }\n",
              "\n",
              "    .colab-df-buttons div {\n",
              "      margin-bottom: 4px;\n",
              "    }\n",
              "\n",
              "    [theme=dark] .colab-df-convert {\n",
              "      background-color: #3B4455;\n",
              "      fill: #D2E3FC;\n",
              "    }\n",
              "\n",
              "    [theme=dark] .colab-df-convert:hover {\n",
              "      background-color: #434B5C;\n",
              "      box-shadow: 0px 1px 3px 1px rgba(0, 0, 0, 0.15);\n",
              "      filter: drop-shadow(0px 1px 2px rgba(0, 0, 0, 0.3));\n",
              "      fill: #FFFFFF;\n",
              "    }\n",
              "  </style>\n",
              "\n",
              "    <script>\n",
              "      const buttonEl =\n",
              "        document.querySelector('#df-67b1faf2-d08c-40f9-86d0-bd061aa72154 button.colab-df-convert');\n",
              "      buttonEl.style.display =\n",
              "        google.colab.kernel.accessAllowed ? 'block' : 'none';\n",
              "\n",
              "      async function convertToInteractive(key) {\n",
              "        const element = document.querySelector('#df-67b1faf2-d08c-40f9-86d0-bd061aa72154');\n",
              "        const dataTable =\n",
              "          await google.colab.kernel.invokeFunction('convertToInteractive',\n",
              "                                                    [key], {});\n",
              "        if (!dataTable) return;\n",
              "\n",
              "        const docLinkHtml = 'Like what you see? Visit the ' +\n",
              "          '<a target=\"_blank\" href=https://colab.research.google.com/notebooks/data_table.ipynb>data table notebook</a>'\n",
              "          + ' to learn more about interactive tables.';\n",
              "        element.innerHTML = '';\n",
              "        dataTable['output_type'] = 'display_data';\n",
              "        await google.colab.output.renderOutput(dataTable, element);\n",
              "        const docLink = document.createElement('div');\n",
              "        docLink.innerHTML = docLinkHtml;\n",
              "        element.appendChild(docLink);\n",
              "      }\n",
              "    </script>\n",
              "  </div>\n",
              "\n",
              "\n",
              "<div id=\"df-d2cfef69-6e3b-48ca-8725-de6898fc8e0f\">\n",
              "  <button class=\"colab-df-quickchart\" onclick=\"quickchart('df-d2cfef69-6e3b-48ca-8725-de6898fc8e0f')\"\n",
              "            title=\"Suggest charts\"\n",
              "            style=\"display:none;\">\n",
              "\n",
              "<svg xmlns=\"http://www.w3.org/2000/svg\" height=\"24px\"viewBox=\"0 0 24 24\"\n",
              "     width=\"24px\">\n",
              "    <g>\n",
              "        <path d=\"M19 3H5c-1.1 0-2 .9-2 2v14c0 1.1.9 2 2 2h14c1.1 0 2-.9 2-2V5c0-1.1-.9-2-2-2zM9 17H7v-7h2v7zm4 0h-2V7h2v10zm4 0h-2v-4h2v4z\"/>\n",
              "    </g>\n",
              "</svg>\n",
              "  </button>\n",
              "\n",
              "<style>\n",
              "  .colab-df-quickchart {\n",
              "      --bg-color: #E8F0FE;\n",
              "      --fill-color: #1967D2;\n",
              "      --hover-bg-color: #E2EBFA;\n",
              "      --hover-fill-color: #174EA6;\n",
              "      --disabled-fill-color: #AAA;\n",
              "      --disabled-bg-color: #DDD;\n",
              "  }\n",
              "\n",
              "  [theme=dark] .colab-df-quickchart {\n",
              "      --bg-color: #3B4455;\n",
              "      --fill-color: #D2E3FC;\n",
              "      --hover-bg-color: #434B5C;\n",
              "      --hover-fill-color: #FFFFFF;\n",
              "      --disabled-bg-color: #3B4455;\n",
              "      --disabled-fill-color: #666;\n",
              "  }\n",
              "\n",
              "  .colab-df-quickchart {\n",
              "    background-color: var(--bg-color);\n",
              "    border: none;\n",
              "    border-radius: 50%;\n",
              "    cursor: pointer;\n",
              "    display: none;\n",
              "    fill: var(--fill-color);\n",
              "    height: 32px;\n",
              "    padding: 0;\n",
              "    width: 32px;\n",
              "  }\n",
              "\n",
              "  .colab-df-quickchart:hover {\n",
              "    background-color: var(--hover-bg-color);\n",
              "    box-shadow: 0 1px 2px rgba(60, 64, 67, 0.3), 0 1px 3px 1px rgba(60, 64, 67, 0.15);\n",
              "    fill: var(--button-hover-fill-color);\n",
              "  }\n",
              "\n",
              "  .colab-df-quickchart-complete:disabled,\n",
              "  .colab-df-quickchart-complete:disabled:hover {\n",
              "    background-color: var(--disabled-bg-color);\n",
              "    fill: var(--disabled-fill-color);\n",
              "    box-shadow: none;\n",
              "  }\n",
              "\n",
              "  .colab-df-spinner {\n",
              "    border: 2px solid var(--fill-color);\n",
              "    border-color: transparent;\n",
              "    border-bottom-color: var(--fill-color);\n",
              "    animation:\n",
              "      spin 1s steps(1) infinite;\n",
              "  }\n",
              "\n",
              "  @keyframes spin {\n",
              "    0% {\n",
              "      border-color: transparent;\n",
              "      border-bottom-color: var(--fill-color);\n",
              "      border-left-color: var(--fill-color);\n",
              "    }\n",
              "    20% {\n",
              "      border-color: transparent;\n",
              "      border-left-color: var(--fill-color);\n",
              "      border-top-color: var(--fill-color);\n",
              "    }\n",
              "    30% {\n",
              "      border-color: transparent;\n",
              "      border-left-color: var(--fill-color);\n",
              "      border-top-color: var(--fill-color);\n",
              "      border-right-color: var(--fill-color);\n",
              "    }\n",
              "    40% {\n",
              "      border-color: transparent;\n",
              "      border-right-color: var(--fill-color);\n",
              "      border-top-color: var(--fill-color);\n",
              "    }\n",
              "    60% {\n",
              "      border-color: transparent;\n",
              "      border-right-color: var(--fill-color);\n",
              "    }\n",
              "    80% {\n",
              "      border-color: transparent;\n",
              "      border-right-color: var(--fill-color);\n",
              "      border-bottom-color: var(--fill-color);\n",
              "    }\n",
              "    90% {\n",
              "      border-color: transparent;\n",
              "      border-bottom-color: var(--fill-color);\n",
              "    }\n",
              "  }\n",
              "</style>\n",
              "\n",
              "  <script>\n",
              "    async function quickchart(key) {\n",
              "      const quickchartButtonEl =\n",
              "        document.querySelector('#' + key + ' button');\n",
              "      quickchartButtonEl.disabled = true;  // To prevent multiple clicks.\n",
              "      quickchartButtonEl.classList.add('colab-df-spinner');\n",
              "      try {\n",
              "        const charts = await google.colab.kernel.invokeFunction(\n",
              "            'suggestCharts', [key], {});\n",
              "      } catch (error) {\n",
              "        console.error('Error during call to suggestCharts:', error);\n",
              "      }\n",
              "      quickchartButtonEl.classList.remove('colab-df-spinner');\n",
              "      quickchartButtonEl.classList.add('colab-df-quickchart-complete');\n",
              "    }\n",
              "    (() => {\n",
              "      let quickchartButtonEl =\n",
              "        document.querySelector('#df-d2cfef69-6e3b-48ca-8725-de6898fc8e0f button');\n",
              "      quickchartButtonEl.style.display =\n",
              "        google.colab.kernel.accessAllowed ? 'block' : 'none';\n",
              "    })();\n",
              "  </script>\n",
              "</div>\n",
              "    </div>\n",
              "  </div>\n"
            ],
            "application/vnd.google.colaboratory.intrinsic+json": {
              "type": "dataframe",
              "summary": "{\n  \"name\": \"rows_with_slash[['region', 'department', 'city']]\",\n  \"rows\": 1609,\n  \"fields\": [\n    {\n      \"column\": \"region\",\n      \"properties\": {\n        \"dtype\": \"category\",\n        \"num_unique_values\": 12,\n        \"samples\": [\n          \"Doha\",\n          \"Demerara-Mahaica\",\n          \"Graub\\u00fcnden\"\n        ],\n        \"semantic_type\": \"\",\n        \"description\": \"\"\n      }\n    },\n    {\n      \"column\": \"department\",\n      \"properties\": {\n        \"dtype\": \"category\",\n        \"num_unique_values\": 9,\n        \"samples\": [\n          \"IV-1 Moblissa/la Reconnai\",\n          \"Acklins/Crooked Island\",\n          \"Valle D'Aosta/Vall\\u00e9e D'Aoste\"\n        ],\n        \"semantic_type\": \"\",\n        \"description\": \"\"\n      }\n    },\n    {\n      \"column\": \"city\",\n      \"properties\": {\n        \"dtype\": \"category\",\n        \"num_unique_values\": 24,\n        \"samples\": [\n          \"Cormondes\",\n          \"Aosta\",\n          \"Davos Platz\"\n        ],\n        \"semantic_type\": \"\",\n        \"description\": \"\"\n      }\n    }\n  ]\n}"
            }
          },
          "metadata": {},
          "execution_count": 56
        }
      ]
    },
    {
      "cell_type": "code",
      "source": [
        "# Find rows in 'city' column that contain '/'\n",
        "rows_with_slash = exchanges_2[exchanges_2['city'].str.contains('/', na=False)]\n",
        "\n",
        "# Display the rows\n",
        "rows_with_slash[['region', 'department', 'city']]"
      ],
      "metadata": {
        "colab": {
          "base_uri": "https://localhost:8080/",
          "height": 423
        },
        "id": "tbAV2_0xUXu4",
        "outputId": "f871a070-394d-4c7e-f784-639345fa6cab"
      },
      "execution_count": null,
      "outputs": [
        {
          "output_type": "execute_result",
          "data": {
            "text/plain": [
              "                          region              department  \\\n",
              "7272      Acklins/Crooked Island  Acklins/Crooked Island   \n",
              "17065                    Sachsen           Vogtlandkreis   \n",
              "31229                 Graubünden                Surselva   \n",
              "32847                    Grisons                 Imboden   \n",
              "41275                 Graubünden                 Imboden   \n",
              "...                          ...                     ...   \n",
              "11961349    Comunidad Valenciana               Castellón   \n",
              "11961820    Comunidad Valenciana               Castellón   \n",
              "11966538    Comunidad Valenciana               Castellón   \n",
              "11967185                 Grisons                 Imboden   \n",
              "11969481                 Grisons                 Imboden   \n",
              "\n",
              "                            city  \n",
              "7272      Acklins/Crooked Island  \n",
              "17065            Auerbach/Vogtl.  \n",
              "31229              Breil/Brigels  \n",
              "32847                  Domat/Ems  \n",
              "41275                  Domat/ems  \n",
              "...                          ...  \n",
              "11961349  Orpesa/oropesa Del Mar  \n",
              "11961820    Sant Jordi/San Jorge  \n",
              "11966538  Orpesa/oropesa Del Mar  \n",
              "11967185               Domat/Ems  \n",
              "11969481               Domat/Ems  \n",
              "\n",
              "[1860 rows x 3 columns]"
            ],
            "text/html": [
              "\n",
              "  <div id=\"df-52aafbc9-7226-4b95-a452-7d2c696ac529\" class=\"colab-df-container\">\n",
              "    <div>\n",
              "<style scoped>\n",
              "    .dataframe tbody tr th:only-of-type {\n",
              "        vertical-align: middle;\n",
              "    }\n",
              "\n",
              "    .dataframe tbody tr th {\n",
              "        vertical-align: top;\n",
              "    }\n",
              "\n",
              "    .dataframe thead th {\n",
              "        text-align: right;\n",
              "    }\n",
              "</style>\n",
              "<table border=\"1\" class=\"dataframe\">\n",
              "  <thead>\n",
              "    <tr style=\"text-align: right;\">\n",
              "      <th></th>\n",
              "      <th>region</th>\n",
              "      <th>department</th>\n",
              "      <th>city</th>\n",
              "    </tr>\n",
              "  </thead>\n",
              "  <tbody>\n",
              "    <tr>\n",
              "      <th>7272</th>\n",
              "      <td>Acklins/Crooked Island</td>\n",
              "      <td>Acklins/Crooked Island</td>\n",
              "      <td>Acklins/Crooked Island</td>\n",
              "    </tr>\n",
              "    <tr>\n",
              "      <th>17065</th>\n",
              "      <td>Sachsen</td>\n",
              "      <td>Vogtlandkreis</td>\n",
              "      <td>Auerbach/Vogtl.</td>\n",
              "    </tr>\n",
              "    <tr>\n",
              "      <th>31229</th>\n",
              "      <td>Graubünden</td>\n",
              "      <td>Surselva</td>\n",
              "      <td>Breil/Brigels</td>\n",
              "    </tr>\n",
              "    <tr>\n",
              "      <th>32847</th>\n",
              "      <td>Grisons</td>\n",
              "      <td>Imboden</td>\n",
              "      <td>Domat/Ems</td>\n",
              "    </tr>\n",
              "    <tr>\n",
              "      <th>41275</th>\n",
              "      <td>Graubünden</td>\n",
              "      <td>Imboden</td>\n",
              "      <td>Domat/ems</td>\n",
              "    </tr>\n",
              "    <tr>\n",
              "      <th>...</th>\n",
              "      <td>...</td>\n",
              "      <td>...</td>\n",
              "      <td>...</td>\n",
              "    </tr>\n",
              "    <tr>\n",
              "      <th>11961349</th>\n",
              "      <td>Comunidad Valenciana</td>\n",
              "      <td>Castellón</td>\n",
              "      <td>Orpesa/oropesa Del Mar</td>\n",
              "    </tr>\n",
              "    <tr>\n",
              "      <th>11961820</th>\n",
              "      <td>Comunidad Valenciana</td>\n",
              "      <td>Castellón</td>\n",
              "      <td>Sant Jordi/San Jorge</td>\n",
              "    </tr>\n",
              "    <tr>\n",
              "      <th>11966538</th>\n",
              "      <td>Comunidad Valenciana</td>\n",
              "      <td>Castellón</td>\n",
              "      <td>Orpesa/oropesa Del Mar</td>\n",
              "    </tr>\n",
              "    <tr>\n",
              "      <th>11967185</th>\n",
              "      <td>Grisons</td>\n",
              "      <td>Imboden</td>\n",
              "      <td>Domat/Ems</td>\n",
              "    </tr>\n",
              "    <tr>\n",
              "      <th>11969481</th>\n",
              "      <td>Grisons</td>\n",
              "      <td>Imboden</td>\n",
              "      <td>Domat/Ems</td>\n",
              "    </tr>\n",
              "  </tbody>\n",
              "</table>\n",
              "<p>1860 rows × 3 columns</p>\n",
              "</div>\n",
              "    <div class=\"colab-df-buttons\">\n",
              "\n",
              "  <div class=\"colab-df-container\">\n",
              "    <button class=\"colab-df-convert\" onclick=\"convertToInteractive('df-52aafbc9-7226-4b95-a452-7d2c696ac529')\"\n",
              "            title=\"Convert this dataframe to an interactive table.\"\n",
              "            style=\"display:none;\">\n",
              "\n",
              "  <svg xmlns=\"http://www.w3.org/2000/svg\" height=\"24px\" viewBox=\"0 -960 960 960\">\n",
              "    <path d=\"M120-120v-720h720v720H120Zm60-500h600v-160H180v160Zm220 220h160v-160H400v160Zm0 220h160v-160H400v160ZM180-400h160v-160H180v160Zm440 0h160v-160H620v160ZM180-180h160v-160H180v160Zm440 0h160v-160H620v160Z\"/>\n",
              "  </svg>\n",
              "    </button>\n",
              "\n",
              "  <style>\n",
              "    .colab-df-container {\n",
              "      display:flex;\n",
              "      gap: 12px;\n",
              "    }\n",
              "\n",
              "    .colab-df-convert {\n",
              "      background-color: #E8F0FE;\n",
              "      border: none;\n",
              "      border-radius: 50%;\n",
              "      cursor: pointer;\n",
              "      display: none;\n",
              "      fill: #1967D2;\n",
              "      height: 32px;\n",
              "      padding: 0 0 0 0;\n",
              "      width: 32px;\n",
              "    }\n",
              "\n",
              "    .colab-df-convert:hover {\n",
              "      background-color: #E2EBFA;\n",
              "      box-shadow: 0px 1px 2px rgba(60, 64, 67, 0.3), 0px 1px 3px 1px rgba(60, 64, 67, 0.15);\n",
              "      fill: #174EA6;\n",
              "    }\n",
              "\n",
              "    .colab-df-buttons div {\n",
              "      margin-bottom: 4px;\n",
              "    }\n",
              "\n",
              "    [theme=dark] .colab-df-convert {\n",
              "      background-color: #3B4455;\n",
              "      fill: #D2E3FC;\n",
              "    }\n",
              "\n",
              "    [theme=dark] .colab-df-convert:hover {\n",
              "      background-color: #434B5C;\n",
              "      box-shadow: 0px 1px 3px 1px rgba(0, 0, 0, 0.15);\n",
              "      filter: drop-shadow(0px 1px 2px rgba(0, 0, 0, 0.3));\n",
              "      fill: #FFFFFF;\n",
              "    }\n",
              "  </style>\n",
              "\n",
              "    <script>\n",
              "      const buttonEl =\n",
              "        document.querySelector('#df-52aafbc9-7226-4b95-a452-7d2c696ac529 button.colab-df-convert');\n",
              "      buttonEl.style.display =\n",
              "        google.colab.kernel.accessAllowed ? 'block' : 'none';\n",
              "\n",
              "      async function convertToInteractive(key) {\n",
              "        const element = document.querySelector('#df-52aafbc9-7226-4b95-a452-7d2c696ac529');\n",
              "        const dataTable =\n",
              "          await google.colab.kernel.invokeFunction('convertToInteractive',\n",
              "                                                    [key], {});\n",
              "        if (!dataTable) return;\n",
              "\n",
              "        const docLinkHtml = 'Like what you see? Visit the ' +\n",
              "          '<a target=\"_blank\" href=https://colab.research.google.com/notebooks/data_table.ipynb>data table notebook</a>'\n",
              "          + ' to learn more about interactive tables.';\n",
              "        element.innerHTML = '';\n",
              "        dataTable['output_type'] = 'display_data';\n",
              "        await google.colab.output.renderOutput(dataTable, element);\n",
              "        const docLink = document.createElement('div');\n",
              "        docLink.innerHTML = docLinkHtml;\n",
              "        element.appendChild(docLink);\n",
              "      }\n",
              "    </script>\n",
              "  </div>\n",
              "\n",
              "\n",
              "<div id=\"df-0d39c914-f690-4470-8363-32b69cabd5df\">\n",
              "  <button class=\"colab-df-quickchart\" onclick=\"quickchart('df-0d39c914-f690-4470-8363-32b69cabd5df')\"\n",
              "            title=\"Suggest charts\"\n",
              "            style=\"display:none;\">\n",
              "\n",
              "<svg xmlns=\"http://www.w3.org/2000/svg\" height=\"24px\"viewBox=\"0 0 24 24\"\n",
              "     width=\"24px\">\n",
              "    <g>\n",
              "        <path d=\"M19 3H5c-1.1 0-2 .9-2 2v14c0 1.1.9 2 2 2h14c1.1 0 2-.9 2-2V5c0-1.1-.9-2-2-2zM9 17H7v-7h2v7zm4 0h-2V7h2v10zm4 0h-2v-4h2v4z\"/>\n",
              "    </g>\n",
              "</svg>\n",
              "  </button>\n",
              "\n",
              "<style>\n",
              "  .colab-df-quickchart {\n",
              "      --bg-color: #E8F0FE;\n",
              "      --fill-color: #1967D2;\n",
              "      --hover-bg-color: #E2EBFA;\n",
              "      --hover-fill-color: #174EA6;\n",
              "      --disabled-fill-color: #AAA;\n",
              "      --disabled-bg-color: #DDD;\n",
              "  }\n",
              "\n",
              "  [theme=dark] .colab-df-quickchart {\n",
              "      --bg-color: #3B4455;\n",
              "      --fill-color: #D2E3FC;\n",
              "      --hover-bg-color: #434B5C;\n",
              "      --hover-fill-color: #FFFFFF;\n",
              "      --disabled-bg-color: #3B4455;\n",
              "      --disabled-fill-color: #666;\n",
              "  }\n",
              "\n",
              "  .colab-df-quickchart {\n",
              "    background-color: var(--bg-color);\n",
              "    border: none;\n",
              "    border-radius: 50%;\n",
              "    cursor: pointer;\n",
              "    display: none;\n",
              "    fill: var(--fill-color);\n",
              "    height: 32px;\n",
              "    padding: 0;\n",
              "    width: 32px;\n",
              "  }\n",
              "\n",
              "  .colab-df-quickchart:hover {\n",
              "    background-color: var(--hover-bg-color);\n",
              "    box-shadow: 0 1px 2px rgba(60, 64, 67, 0.3), 0 1px 3px 1px rgba(60, 64, 67, 0.15);\n",
              "    fill: var(--button-hover-fill-color);\n",
              "  }\n",
              "\n",
              "  .colab-df-quickchart-complete:disabled,\n",
              "  .colab-df-quickchart-complete:disabled:hover {\n",
              "    background-color: var(--disabled-bg-color);\n",
              "    fill: var(--disabled-fill-color);\n",
              "    box-shadow: none;\n",
              "  }\n",
              "\n",
              "  .colab-df-spinner {\n",
              "    border: 2px solid var(--fill-color);\n",
              "    border-color: transparent;\n",
              "    border-bottom-color: var(--fill-color);\n",
              "    animation:\n",
              "      spin 1s steps(1) infinite;\n",
              "  }\n",
              "\n",
              "  @keyframes spin {\n",
              "    0% {\n",
              "      border-color: transparent;\n",
              "      border-bottom-color: var(--fill-color);\n",
              "      border-left-color: var(--fill-color);\n",
              "    }\n",
              "    20% {\n",
              "      border-color: transparent;\n",
              "      border-left-color: var(--fill-color);\n",
              "      border-top-color: var(--fill-color);\n",
              "    }\n",
              "    30% {\n",
              "      border-color: transparent;\n",
              "      border-left-color: var(--fill-color);\n",
              "      border-top-color: var(--fill-color);\n",
              "      border-right-color: var(--fill-color);\n",
              "    }\n",
              "    40% {\n",
              "      border-color: transparent;\n",
              "      border-right-color: var(--fill-color);\n",
              "      border-top-color: var(--fill-color);\n",
              "    }\n",
              "    60% {\n",
              "      border-color: transparent;\n",
              "      border-right-color: var(--fill-color);\n",
              "    }\n",
              "    80% {\n",
              "      border-color: transparent;\n",
              "      border-right-color: var(--fill-color);\n",
              "      border-bottom-color: var(--fill-color);\n",
              "    }\n",
              "    90% {\n",
              "      border-color: transparent;\n",
              "      border-bottom-color: var(--fill-color);\n",
              "    }\n",
              "  }\n",
              "</style>\n",
              "\n",
              "  <script>\n",
              "    async function quickchart(key) {\n",
              "      const quickchartButtonEl =\n",
              "        document.querySelector('#' + key + ' button');\n",
              "      quickchartButtonEl.disabled = true;  // To prevent multiple clicks.\n",
              "      quickchartButtonEl.classList.add('colab-df-spinner');\n",
              "      try {\n",
              "        const charts = await google.colab.kernel.invokeFunction(\n",
              "            'suggestCharts', [key], {});\n",
              "      } catch (error) {\n",
              "        console.error('Error during call to suggestCharts:', error);\n",
              "      }\n",
              "      quickchartButtonEl.classList.remove('colab-df-spinner');\n",
              "      quickchartButtonEl.classList.add('colab-df-quickchart-complete');\n",
              "    }\n",
              "    (() => {\n",
              "      let quickchartButtonEl =\n",
              "        document.querySelector('#df-0d39c914-f690-4470-8363-32b69cabd5df button');\n",
              "      quickchartButtonEl.style.display =\n",
              "        google.colab.kernel.accessAllowed ? 'block' : 'none';\n",
              "    })();\n",
              "  </script>\n",
              "</div>\n",
              "    </div>\n",
              "  </div>\n"
            ],
            "application/vnd.google.colaboratory.intrinsic+json": {
              "type": "dataframe",
              "summary": "{\n  \"name\": \"rows_with_slash[['region', 'department', 'city']]\",\n  \"rows\": 1860,\n  \"fields\": [\n    {\n      \"column\": \"region\",\n      \"properties\": {\n        \"dtype\": \"category\",\n        \"num_unique_values\": 21,\n        \"samples\": [\n          \"Acklins/Crooked Island\",\n          \"Berne\",\n          \"Bern\"\n        ],\n        \"semantic_type\": \"\",\n        \"description\": \"\"\n      }\n    },\n    {\n      \"column\": \"department\",\n      \"properties\": {\n        \"dtype\": \"category\",\n        \"num_unique_values\": 30,\n        \"samples\": [\n          \"Chemnitz\",\n          \"Greiz\",\n          \"Leeds and Grenville\"\n        ],\n        \"semantic_type\": \"\",\n        \"description\": \"\"\n      }\n    },\n    {\n      \"column\": \"city\",\n      \"properties\": {\n        \"dtype\": \"category\",\n        \"num_unique_values\": 38,\n        \"samples\": [\n          \"Vaz/obervaz\",\n          \"Jahnsdorf/erzgeb\",\n          \"Domat/ems\"\n        ],\n        \"semantic_type\": \"\",\n        \"description\": \"\"\n      }\n    }\n  ]\n}"
            }
          },
          "metadata": {},
          "execution_count": 57
        }
      ]
    },
    {
      "cell_type": "markdown",
      "source": [
        "✅ leave \"/\", they are valid entries"
      ],
      "metadata": {
        "id": "2VptQYu6SlCr"
      }
    },
    {
      "cell_type": "markdown",
      "source": [
        "**NEXT:** 🎯 target entries with \"?\" special character"
      ],
      "metadata": {
        "id": "eoZDdzOnTS_h"
      }
    },
    {
      "cell_type": "code",
      "source": [
        "# Find rows in 'region' column that contain '/'\n",
        "rows_with_q = exchanges_2[exchanges_2['region'].str.contains('\\?', na=False)]\n",
        "\n",
        "# Display the rows\n",
        "rows_with_q[['region', 'department', 'city']]"
      ],
      "metadata": {
        "colab": {
          "base_uri": "https://localhost:8080/",
          "height": 423
        },
        "collapsed": true,
        "id": "tQUesARpT0z4",
        "outputId": "48b4cfcd-2f45-48d8-882a-be2b7531ffa1"
      },
      "execution_count": null,
      "outputs": [
        {
          "output_type": "execute_result",
          "data": {
            "text/plain": [
              "                                   region            department  \\\n",
              "76        Dubrova?ko-Neretvanska ´upanija      Op?ina Dubrovnik   \n",
              "940                   Województwo ?ódzkie            Pabianicki   \n",
              "1616                 Municipiul Bucure?ti  Municipiul Bucure?ti   \n",
              "2460                     St?edo?eský Kraj           Praha-Západ   \n",
              "3333                            Over?ssel       Steenwijkerland   \n",
              "...                                   ...                   ...   \n",
              "11968718                      Ma?opolskie                Kraków   \n",
              "11969405                        Over?ssel                Zwolle   \n",
              "11969552                        Over?ssel               Wierden   \n",
              "11969553         Województwo Dolno?l?skie               Wroc?aw   \n",
              "11969598                 Woj. Ma?opolskie              Cracovie   \n",
              "\n",
              "                         city  \n",
              "76                  Dubrovnik  \n",
              "940       Konstantynów ?ódzki  \n",
              "1616                Bucure?ti  \n",
              "2460                    Davle  \n",
              "3333                Steenwijk  \n",
              "...                       ...  \n",
              "11968718               Kraków  \n",
              "11969405               Zwolle  \n",
              "11969552              Wierden  \n",
              "11969553              Wroc?aw  \n",
              "11969598             Cracovie  \n",
              "\n",
              "[21950 rows x 3 columns]"
            ],
            "text/html": [
              "\n",
              "  <div id=\"df-67160d81-01df-4fef-a9af-e98d9e0949ff\" class=\"colab-df-container\">\n",
              "    <div>\n",
              "<style scoped>\n",
              "    .dataframe tbody tr th:only-of-type {\n",
              "        vertical-align: middle;\n",
              "    }\n",
              "\n",
              "    .dataframe tbody tr th {\n",
              "        vertical-align: top;\n",
              "    }\n",
              "\n",
              "    .dataframe thead th {\n",
              "        text-align: right;\n",
              "    }\n",
              "</style>\n",
              "<table border=\"1\" class=\"dataframe\">\n",
              "  <thead>\n",
              "    <tr style=\"text-align: right;\">\n",
              "      <th></th>\n",
              "      <th>region</th>\n",
              "      <th>department</th>\n",
              "      <th>city</th>\n",
              "    </tr>\n",
              "  </thead>\n",
              "  <tbody>\n",
              "    <tr>\n",
              "      <th>76</th>\n",
              "      <td>Dubrova?ko-Neretvanska ´upanija</td>\n",
              "      <td>Op?ina Dubrovnik</td>\n",
              "      <td>Dubrovnik</td>\n",
              "    </tr>\n",
              "    <tr>\n",
              "      <th>940</th>\n",
              "      <td>Województwo ?ódzkie</td>\n",
              "      <td>Pabianicki</td>\n",
              "      <td>Konstantynów ?ódzki</td>\n",
              "    </tr>\n",
              "    <tr>\n",
              "      <th>1616</th>\n",
              "      <td>Municipiul Bucure?ti</td>\n",
              "      <td>Municipiul Bucure?ti</td>\n",
              "      <td>Bucure?ti</td>\n",
              "    </tr>\n",
              "    <tr>\n",
              "      <th>2460</th>\n",
              "      <td>St?edo?eský Kraj</td>\n",
              "      <td>Praha-Západ</td>\n",
              "      <td>Davle</td>\n",
              "    </tr>\n",
              "    <tr>\n",
              "      <th>3333</th>\n",
              "      <td>Over?ssel</td>\n",
              "      <td>Steenwijkerland</td>\n",
              "      <td>Steenwijk</td>\n",
              "    </tr>\n",
              "    <tr>\n",
              "      <th>...</th>\n",
              "      <td>...</td>\n",
              "      <td>...</td>\n",
              "      <td>...</td>\n",
              "    </tr>\n",
              "    <tr>\n",
              "      <th>11968718</th>\n",
              "      <td>Ma?opolskie</td>\n",
              "      <td>Kraków</td>\n",
              "      <td>Kraków</td>\n",
              "    </tr>\n",
              "    <tr>\n",
              "      <th>11969405</th>\n",
              "      <td>Over?ssel</td>\n",
              "      <td>Zwolle</td>\n",
              "      <td>Zwolle</td>\n",
              "    </tr>\n",
              "    <tr>\n",
              "      <th>11969552</th>\n",
              "      <td>Over?ssel</td>\n",
              "      <td>Wierden</td>\n",
              "      <td>Wierden</td>\n",
              "    </tr>\n",
              "    <tr>\n",
              "      <th>11969553</th>\n",
              "      <td>Województwo Dolno?l?skie</td>\n",
              "      <td>Wroc?aw</td>\n",
              "      <td>Wroc?aw</td>\n",
              "    </tr>\n",
              "    <tr>\n",
              "      <th>11969598</th>\n",
              "      <td>Woj. Ma?opolskie</td>\n",
              "      <td>Cracovie</td>\n",
              "      <td>Cracovie</td>\n",
              "    </tr>\n",
              "  </tbody>\n",
              "</table>\n",
              "<p>21950 rows × 3 columns</p>\n",
              "</div>\n",
              "    <div class=\"colab-df-buttons\">\n",
              "\n",
              "  <div class=\"colab-df-container\">\n",
              "    <button class=\"colab-df-convert\" onclick=\"convertToInteractive('df-67160d81-01df-4fef-a9af-e98d9e0949ff')\"\n",
              "            title=\"Convert this dataframe to an interactive table.\"\n",
              "            style=\"display:none;\">\n",
              "\n",
              "  <svg xmlns=\"http://www.w3.org/2000/svg\" height=\"24px\" viewBox=\"0 -960 960 960\">\n",
              "    <path d=\"M120-120v-720h720v720H120Zm60-500h600v-160H180v160Zm220 220h160v-160H400v160Zm0 220h160v-160H400v160ZM180-400h160v-160H180v160Zm440 0h160v-160H620v160ZM180-180h160v-160H180v160Zm440 0h160v-160H620v160Z\"/>\n",
              "  </svg>\n",
              "    </button>\n",
              "\n",
              "  <style>\n",
              "    .colab-df-container {\n",
              "      display:flex;\n",
              "      gap: 12px;\n",
              "    }\n",
              "\n",
              "    .colab-df-convert {\n",
              "      background-color: #E8F0FE;\n",
              "      border: none;\n",
              "      border-radius: 50%;\n",
              "      cursor: pointer;\n",
              "      display: none;\n",
              "      fill: #1967D2;\n",
              "      height: 32px;\n",
              "      padding: 0 0 0 0;\n",
              "      width: 32px;\n",
              "    }\n",
              "\n",
              "    .colab-df-convert:hover {\n",
              "      background-color: #E2EBFA;\n",
              "      box-shadow: 0px 1px 2px rgba(60, 64, 67, 0.3), 0px 1px 3px 1px rgba(60, 64, 67, 0.15);\n",
              "      fill: #174EA6;\n",
              "    }\n",
              "\n",
              "    .colab-df-buttons div {\n",
              "      margin-bottom: 4px;\n",
              "    }\n",
              "\n",
              "    [theme=dark] .colab-df-convert {\n",
              "      background-color: #3B4455;\n",
              "      fill: #D2E3FC;\n",
              "    }\n",
              "\n",
              "    [theme=dark] .colab-df-convert:hover {\n",
              "      background-color: #434B5C;\n",
              "      box-shadow: 0px 1px 3px 1px rgba(0, 0, 0, 0.15);\n",
              "      filter: drop-shadow(0px 1px 2px rgba(0, 0, 0, 0.3));\n",
              "      fill: #FFFFFF;\n",
              "    }\n",
              "  </style>\n",
              "\n",
              "    <script>\n",
              "      const buttonEl =\n",
              "        document.querySelector('#df-67160d81-01df-4fef-a9af-e98d9e0949ff button.colab-df-convert');\n",
              "      buttonEl.style.display =\n",
              "        google.colab.kernel.accessAllowed ? 'block' : 'none';\n",
              "\n",
              "      async function convertToInteractive(key) {\n",
              "        const element = document.querySelector('#df-67160d81-01df-4fef-a9af-e98d9e0949ff');\n",
              "        const dataTable =\n",
              "          await google.colab.kernel.invokeFunction('convertToInteractive',\n",
              "                                                    [key], {});\n",
              "        if (!dataTable) return;\n",
              "\n",
              "        const docLinkHtml = 'Like what you see? Visit the ' +\n",
              "          '<a target=\"_blank\" href=https://colab.research.google.com/notebooks/data_table.ipynb>data table notebook</a>'\n",
              "          + ' to learn more about interactive tables.';\n",
              "        element.innerHTML = '';\n",
              "        dataTable['output_type'] = 'display_data';\n",
              "        await google.colab.output.renderOutput(dataTable, element);\n",
              "        const docLink = document.createElement('div');\n",
              "        docLink.innerHTML = docLinkHtml;\n",
              "        element.appendChild(docLink);\n",
              "      }\n",
              "    </script>\n",
              "  </div>\n",
              "\n",
              "\n",
              "<div id=\"df-672378cc-7fea-4058-830b-95c8fc55c6ae\">\n",
              "  <button class=\"colab-df-quickchart\" onclick=\"quickchart('df-672378cc-7fea-4058-830b-95c8fc55c6ae')\"\n",
              "            title=\"Suggest charts\"\n",
              "            style=\"display:none;\">\n",
              "\n",
              "<svg xmlns=\"http://www.w3.org/2000/svg\" height=\"24px\"viewBox=\"0 0 24 24\"\n",
              "     width=\"24px\">\n",
              "    <g>\n",
              "        <path d=\"M19 3H5c-1.1 0-2 .9-2 2v14c0 1.1.9 2 2 2h14c1.1 0 2-.9 2-2V5c0-1.1-.9-2-2-2zM9 17H7v-7h2v7zm4 0h-2V7h2v10zm4 0h-2v-4h2v4z\"/>\n",
              "    </g>\n",
              "</svg>\n",
              "  </button>\n",
              "\n",
              "<style>\n",
              "  .colab-df-quickchart {\n",
              "      --bg-color: #E8F0FE;\n",
              "      --fill-color: #1967D2;\n",
              "      --hover-bg-color: #E2EBFA;\n",
              "      --hover-fill-color: #174EA6;\n",
              "      --disabled-fill-color: #AAA;\n",
              "      --disabled-bg-color: #DDD;\n",
              "  }\n",
              "\n",
              "  [theme=dark] .colab-df-quickchart {\n",
              "      --bg-color: #3B4455;\n",
              "      --fill-color: #D2E3FC;\n",
              "      --hover-bg-color: #434B5C;\n",
              "      --hover-fill-color: #FFFFFF;\n",
              "      --disabled-bg-color: #3B4455;\n",
              "      --disabled-fill-color: #666;\n",
              "  }\n",
              "\n",
              "  .colab-df-quickchart {\n",
              "    background-color: var(--bg-color);\n",
              "    border: none;\n",
              "    border-radius: 50%;\n",
              "    cursor: pointer;\n",
              "    display: none;\n",
              "    fill: var(--fill-color);\n",
              "    height: 32px;\n",
              "    padding: 0;\n",
              "    width: 32px;\n",
              "  }\n",
              "\n",
              "  .colab-df-quickchart:hover {\n",
              "    background-color: var(--hover-bg-color);\n",
              "    box-shadow: 0 1px 2px rgba(60, 64, 67, 0.3), 0 1px 3px 1px rgba(60, 64, 67, 0.15);\n",
              "    fill: var(--button-hover-fill-color);\n",
              "  }\n",
              "\n",
              "  .colab-df-quickchart-complete:disabled,\n",
              "  .colab-df-quickchart-complete:disabled:hover {\n",
              "    background-color: var(--disabled-bg-color);\n",
              "    fill: var(--disabled-fill-color);\n",
              "    box-shadow: none;\n",
              "  }\n",
              "\n",
              "  .colab-df-spinner {\n",
              "    border: 2px solid var(--fill-color);\n",
              "    border-color: transparent;\n",
              "    border-bottom-color: var(--fill-color);\n",
              "    animation:\n",
              "      spin 1s steps(1) infinite;\n",
              "  }\n",
              "\n",
              "  @keyframes spin {\n",
              "    0% {\n",
              "      border-color: transparent;\n",
              "      border-bottom-color: var(--fill-color);\n",
              "      border-left-color: var(--fill-color);\n",
              "    }\n",
              "    20% {\n",
              "      border-color: transparent;\n",
              "      border-left-color: var(--fill-color);\n",
              "      border-top-color: var(--fill-color);\n",
              "    }\n",
              "    30% {\n",
              "      border-color: transparent;\n",
              "      border-left-color: var(--fill-color);\n",
              "      border-top-color: var(--fill-color);\n",
              "      border-right-color: var(--fill-color);\n",
              "    }\n",
              "    40% {\n",
              "      border-color: transparent;\n",
              "      border-right-color: var(--fill-color);\n",
              "      border-top-color: var(--fill-color);\n",
              "    }\n",
              "    60% {\n",
              "      border-color: transparent;\n",
              "      border-right-color: var(--fill-color);\n",
              "    }\n",
              "    80% {\n",
              "      border-color: transparent;\n",
              "      border-right-color: var(--fill-color);\n",
              "      border-bottom-color: var(--fill-color);\n",
              "    }\n",
              "    90% {\n",
              "      border-color: transparent;\n",
              "      border-bottom-color: var(--fill-color);\n",
              "    }\n",
              "  }\n",
              "</style>\n",
              "\n",
              "  <script>\n",
              "    async function quickchart(key) {\n",
              "      const quickchartButtonEl =\n",
              "        document.querySelector('#' + key + ' button');\n",
              "      quickchartButtonEl.disabled = true;  // To prevent multiple clicks.\n",
              "      quickchartButtonEl.classList.add('colab-df-spinner');\n",
              "      try {\n",
              "        const charts = await google.colab.kernel.invokeFunction(\n",
              "            'suggestCharts', [key], {});\n",
              "      } catch (error) {\n",
              "        console.error('Error during call to suggestCharts:', error);\n",
              "      }\n",
              "      quickchartButtonEl.classList.remove('colab-df-spinner');\n",
              "      quickchartButtonEl.classList.add('colab-df-quickchart-complete');\n",
              "    }\n",
              "    (() => {\n",
              "      let quickchartButtonEl =\n",
              "        document.querySelector('#df-672378cc-7fea-4058-830b-95c8fc55c6ae button');\n",
              "      quickchartButtonEl.style.display =\n",
              "        google.colab.kernel.accessAllowed ? 'block' : 'none';\n",
              "    })();\n",
              "  </script>\n",
              "</div>\n",
              "    </div>\n",
              "  </div>\n"
            ],
            "application/vnd.google.colaboratory.intrinsic+json": {
              "type": "dataframe",
              "summary": "{\n  \"name\": \"rows_with_q[['region', 'department', 'city']]\",\n  \"rows\": 21950,\n  \"fields\": [\n    {\n      \"column\": \"region\",\n      \"properties\": {\n        \"dtype\": \"category\",\n        \"num_unique_values\": 88,\n        \"samples\": [\n          \"Jude? De Bihor\",\n          \"Dubrova?ko-Neretvanska \\u00b4upanija\",\n          \"Ayd?n Province\"\n        ],\n        \"semantic_type\": \"\",\n        \"description\": \"\"\n      }\n    },\n    {\n      \"column\": \"department\",\n      \"properties\": {\n        \"dtype\": \"category\",\n        \"num_unique_values\": 269,\n        \"samples\": [\n          \"Avanos\",\n          \"Op?ina Vrbovec\",\n          \"Op?ina Orebi?\"\n        ],\n        \"semantic_type\": \"\",\n        \"description\": \"\"\n      }\n    },\n    {\n      \"column\": \"city\",\n      \"properties\": {\n        \"dtype\": \"category\",\n        \"num_unique_values\": 393,\n        \"samples\": [\n          \"Plzen\",\n          \"Gale?u\",\n          \"?apsze Ni?ne\"\n        ],\n        \"semantic_type\": \"\",\n        \"description\": \"\"\n      }\n    }\n  ]\n}"
            }
          },
          "metadata": {},
          "execution_count": 58
        }
      ]
    },
    {
      "cell_type": "code",
      "source": [
        "# Count rows in 'region' column that contain '?'\n",
        "count_rows_with_q = exchanges_2['region'].str.contains('\\?', na=False).sum()\n",
        "\n",
        "# Display the count\n",
        "print(f\"Number of rows in 'region' column that contain '?': {count_rows_with_q}\")"
      ],
      "metadata": {
        "colab": {
          "base_uri": "https://localhost:8080/"
        },
        "id": "aXEcjGi8VIWU",
        "outputId": "8375032b-b0e6-40a1-ff19-6d74ab330e4f"
      },
      "execution_count": null,
      "outputs": [
        {
          "output_type": "stream",
          "name": "stdout",
          "text": [
            "Number of rows in 'region' column that contain '?': 21950\n"
          ]
        }
      ]
    },
    {
      "cell_type": "code",
      "source": [
        "# Count rows in 'department' column that contain '?'\n",
        "count_rows_with_q = exchanges_2['department'].str.contains('\\?', na=False).sum()\n",
        "\n",
        "# Display the count\n",
        "print(f\"Number of rows in 'department' column that contain '?': {count_rows_with_q}\")"
      ],
      "metadata": {
        "colab": {
          "base_uri": "https://localhost:8080/"
        },
        "id": "_cGZY89_Uuiz",
        "outputId": "a317b0e2-883f-4ead-879a-2c2835a44d6e"
      },
      "execution_count": null,
      "outputs": [
        {
          "output_type": "stream",
          "name": "stdout",
          "text": [
            "Number of rows in 'department' column that contain '?': 34182\n"
          ]
        }
      ]
    },
    {
      "cell_type": "code",
      "source": [
        "# Count rows in 'city' column that contain '?'\n",
        "count_rows_with_q = exchanges_2['city'].str.contains('\\?', na=False).sum()\n",
        "\n",
        "# Display the count\n",
        "print(f\"Number of rows in 'city' column that contain '?': {count_rows_with_q}\")"
      ],
      "metadata": {
        "colab": {
          "base_uri": "https://localhost:8080/"
        },
        "id": "vEg69GPhVNIK",
        "outputId": "ccdbdd42-0f8c-451c-b158-4e00ea3427fe"
      },
      "execution_count": null,
      "outputs": [
        {
          "output_type": "stream",
          "name": "stdout",
          "text": [
            "Number of rows in 'city' column that contain '?': 13799\n"
          ]
        }
      ]
    },
    {
      "cell_type": "markdown",
      "source": [
        "##**Drop rows that contain '?'**\n",
        "\n",
        "*  region, department, city"
      ],
      "metadata": {
        "id": "oUBtQVUbV8ql"
      }
    },
    {
      "cell_type": "code",
      "source": [
        "#drop rows that contain '?' in city, region, department\n",
        "\n",
        "#original rows = 11969751\n",
        "#rows to delete = 34182 = 0,2%"
      ],
      "metadata": {
        "id": "JbQ3jLH6VoNM"
      },
      "execution_count": null,
      "outputs": []
    },
    {
      "cell_type": "code",
      "source": [
        "exchanges_2['region'].str.contains('\\?', na=False).sum()"
      ],
      "metadata": {
        "colab": {
          "base_uri": "https://localhost:8080/"
        },
        "id": "yWaXVf7xWD-l",
        "outputId": "a4c0d6aa-1825-4612-9500-a72b935bf4c7"
      },
      "execution_count": null,
      "outputs": [
        {
          "output_type": "execute_result",
          "data": {
            "text/plain": [
              "21950"
            ]
          },
          "metadata": {},
          "execution_count": 63
        }
      ]
    },
    {
      "cell_type": "code",
      "source": [
        "exchanges_2['department'].str.contains('\\?', na=False).sum()"
      ],
      "metadata": {
        "colab": {
          "base_uri": "https://localhost:8080/"
        },
        "id": "tUK91XmJWXzU",
        "outputId": "9834aedd-c7a0-47d9-f182-7831abde9d1a"
      },
      "execution_count": null,
      "outputs": [
        {
          "output_type": "execute_result",
          "data": {
            "text/plain": [
              "34182"
            ]
          },
          "metadata": {},
          "execution_count": 64
        }
      ]
    },
    {
      "cell_type": "code",
      "source": [
        "exchanges_2['city'].str.contains('\\?', na=False).sum()"
      ],
      "metadata": {
        "colab": {
          "base_uri": "https://localhost:8080/"
        },
        "id": "zVRvcMpjWZ1t",
        "outputId": "7b9ff186-583b-4878-97e7-18a59afe1cdf"
      },
      "execution_count": null,
      "outputs": [
        {
          "output_type": "execute_result",
          "data": {
            "text/plain": [
              "13799"
            ]
          },
          "metadata": {},
          "execution_count": 65
        }
      ]
    },
    {
      "cell_type": "code",
      "source": [
        "exchanges_2.shape"
      ],
      "metadata": {
        "colab": {
          "base_uri": "https://localhost:8080/"
        },
        "id": "YE8TG22lWnDt",
        "outputId": "3def4dc5-ec93-4abf-badd-7ca3b30f13d8"
      },
      "execution_count": null,
      "outputs": [
        {
          "output_type": "execute_result",
          "data": {
            "text/plain": [
              "(10061939, 23)"
            ]
          },
          "metadata": {},
          "execution_count": 66
        }
      ]
    },
    {
      "cell_type": "code",
      "source": [
        "# Find the rows to delete where 'region' matches the pattern\n",
        "to_delete_region_q = exchanges_2['region'].str.contains('\\?', na=False)"
      ],
      "metadata": {
        "id": "yzWperaYWLrR"
      },
      "execution_count": null,
      "outputs": []
    },
    {
      "cell_type": "code",
      "source": [
        "to_delete_region_q.sum()"
      ],
      "metadata": {
        "colab": {
          "base_uri": "https://localhost:8080/"
        },
        "id": "WKVPcXFwhE3m",
        "outputId": "1d3f0f94-e78c-4278-8038-82cbd427c62d"
      },
      "execution_count": null,
      "outputs": [
        {
          "output_type": "execute_result",
          "data": {
            "text/plain": [
              "21950"
            ]
          },
          "metadata": {},
          "execution_count": 78
        }
      ]
    },
    {
      "cell_type": "code",
      "source": [
        "exchanges_3 = exchanges_2[~to_delete_region_q]"
      ],
      "metadata": {
        "id": "VrsXq4mpWsc3"
      },
      "execution_count": null,
      "outputs": []
    },
    {
      "cell_type": "code",
      "source": [
        "# Find the rows to delete where 'department' matches the pattern\n",
        "to_delete_dep_q = exchanges_2['department'].str.contains('\\?', na=False)"
      ],
      "metadata": {
        "id": "igFdYRjqgETd"
      },
      "execution_count": null,
      "outputs": []
    },
    {
      "cell_type": "code",
      "source": [
        "exchanges_3 = exchanges_2[~to_delete_dep_q]"
      ],
      "metadata": {
        "id": "3HXDhxChgG8p"
      },
      "execution_count": null,
      "outputs": []
    },
    {
      "cell_type": "code",
      "source": [
        "to_delete_dep_q.sum()"
      ],
      "metadata": {
        "colab": {
          "base_uri": "https://localhost:8080/"
        },
        "id": "Vje_kCZVhOlI",
        "outputId": "27f24959-faaf-42b0-fe6a-698c75f012e8"
      },
      "execution_count": null,
      "outputs": [
        {
          "output_type": "execute_result",
          "data": {
            "text/plain": [
              "34182"
            ]
          },
          "metadata": {},
          "execution_count": 79
        }
      ]
    },
    {
      "cell_type": "code",
      "source": [
        "# Find the rows to delete where 'city' matches the pattern\n",
        "to_delete_city_q = exchanges_2['city'].str.contains('\\?', na=False)"
      ],
      "metadata": {
        "id": "n7gjOeKRgKha"
      },
      "execution_count": null,
      "outputs": []
    },
    {
      "cell_type": "code",
      "source": [
        "to_delete_city_q.sum()"
      ],
      "metadata": {
        "colab": {
          "base_uri": "https://localhost:8080/"
        },
        "id": "C3kJnhcYhUIN",
        "outputId": "a76dab95-b24e-4ef8-f5a4-7d7f3c85b597"
      },
      "execution_count": null,
      "outputs": [
        {
          "output_type": "execute_result",
          "data": {
            "text/plain": [
              "13799"
            ]
          },
          "metadata": {},
          "execution_count": 80
        }
      ]
    },
    {
      "cell_type": "code",
      "source": [
        "exchanges_3 = exchanges_2[~to_delete_city_q]"
      ],
      "metadata": {
        "id": "KC52lrUfgKdO"
      },
      "execution_count": null,
      "outputs": []
    },
    {
      "cell_type": "markdown",
      "source": [
        "# **Version: exchanges_3**\n",
        "\n",
        "*  Version with no rows that contain '?'"
      ],
      "metadata": {
        "id": "lsvy3whCfVxj"
      }
    },
    {
      "cell_type": "code",
      "source": [
        "exchanges_3.shape\n",
        "\n",
        "#original = (10062947, 23)\n",
        "#version_2 = (10061939, 23)\n",
        "#version_3 = (10048140, 23)\n",
        "\n",
        "#total deleted rows = 14,807 ~ 0,15%"
      ],
      "metadata": {
        "colab": {
          "base_uri": "https://localhost:8080/"
        },
        "id": "I_ZI7Y5OgYWE",
        "outputId": "1b94c8b4-a54d-4c3b-bd30-f74566ef26a4"
      },
      "execution_count": null,
      "outputs": [
        {
          "output_type": "execute_result",
          "data": {
            "text/plain": [
              "(10048140, 23)"
            ]
          },
          "metadata": {},
          "execution_count": 83
        }
      ]
    },
    {
      "cell_type": "code",
      "source": [
        "exchanges_3.info()"
      ],
      "metadata": {
        "colab": {
          "base_uri": "https://localhost:8080/"
        },
        "id": "4sPjWTnOjH5F",
        "outputId": "d79146d6-f6a5-4790-aea4-d9447eba8499"
      },
      "execution_count": null,
      "outputs": [
        {
          "output_type": "stream",
          "name": "stdout",
          "text": [
            "<class 'pandas.core.frame.DataFrame'>\n",
            "Index: 10048140 entries, 0 to 11969750\n",
            "Data columns (total 23 columns):\n",
            " #   Column                Dtype              \n",
            "---  ------                -----              \n",
            " 0   conversation_id       Int64              \n",
            " 1   exchange_id           Int64              \n",
            " 2   created_at            datetime64[ns]     \n",
            " 3   creator_id            Int64              \n",
            " 4   guest_user_id         Int64              \n",
            " 5   host_user_id          Int64              \n",
            " 6   finalized_at          datetime64[us, UTC]\n",
            " 7   canceled_at           datetime64[us, UTC]\n",
            " 8   start_on              datetime64[ns]     \n",
            " 9   end_on                datetime64[ns]     \n",
            " 10  guest_count           Int64              \n",
            " 11  night_count           Int64              \n",
            " 12  user_cancellation_id  Int64              \n",
            " 13  exchange_type         object             \n",
            " 14  home_type             object             \n",
            " 15  residence_type        object             \n",
            " 16  capacity              Int64              \n",
            " 17  country               object             \n",
            " 18  region                object             \n",
            " 19  department            object             \n",
            " 20  city                  object             \n",
            " 21  finalized_at_date     datetime64[us]     \n",
            " 22  canceled_at_date      datetime64[us]     \n",
            "dtypes: Int64(9), datetime64[ns](3), datetime64[us, UTC](2), datetime64[us](2), object(7)\n",
            "memory usage: 1.9+ GB\n"
          ]
        }
      ]
    },
    {
      "cell_type": "markdown",
      "source": [
        "#**Load Version into Google BigQuery**"
      ],
      "metadata": {
        "id": "EBUK85f773qD"
      }
    },
    {
      "cell_type": "code",
      "source": [
        "import pandas_gbq"
      ],
      "metadata": {
        "id": "1vJoKazr8BZy"
      },
      "execution_count": null,
      "outputs": []
    },
    {
      "cell_type": "code",
      "source": [
        "pandas_gbq.to_gbq(exchanges_3, 'home_exchange.exchanges_3', project_id='savvy-torch-421309')"
      ],
      "metadata": {
        "colab": {
          "base_uri": "https://localhost:8080/"
        },
        "id": "M03_Hbks73XJ",
        "outputId": "8ccd8872-b46f-43a5-8fa9-65f483577557"
      },
      "execution_count": null,
      "outputs": [
        {
          "output_type": "stream",
          "name": "stderr",
          "text": [
            "100%|██████████| 1/1 [00:00<00:00, 132.73it/s]\n"
          ]
        }
      ]
    },
    {
      "cell_type": "markdown",
      "source": [
        "##Check datatypes in Google Bigquery\n",
        "\n",
        "* ➰ noted that all datetime fields added with UTC timestamp when not needed"
      ],
      "metadata": {
        "id": "x31VIPxOjZOI"
      }
    }
  ]
}